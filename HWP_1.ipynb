{
  "metadata": {
    "kernelspec": {
      "language": "python",
      "display_name": "Python 3",
      "name": "python3"
    },
    "language_info": {
      "name": "python",
      "version": "3.7.12",
      "mimetype": "text/x-python",
      "codemirror_mode": {
        "name": "ipython",
        "version": 3
      },
      "pygments_lexer": "ipython3",
      "nbconvert_exporter": "python",
      "file_extension": ".py"
    },
    "colab": {
      "name": "HWP_1.ipynb",
      "provenance": []
    }
  },
  "nbformat_minor": 0,
  "nbformat": 4,
  "cells": [
    {
      "cell_type": "code",
      "source": [
        "import torch\n",
        "import numpy as np"
      ],
      "metadata": {
        "execution": {
          "iopub.status.busy": "2022-06-24T07:03:41.596939Z",
          "iopub.execute_input": "2022-06-24T07:03:41.597456Z",
          "iopub.status.idle": "2022-06-24T07:03:43.889791Z",
          "shell.execute_reply.started": "2022-06-24T07:03:41.597354Z",
          "shell.execute_reply": "2022-06-24T07:03:43.888524Z"
        },
        "trusted": true,
        "id": "u9nAGmjTCPGB"
      },
      "execution_count": 1,
      "outputs": []
    },
    {
      "cell_type": "code",
      "source": [
        "# Создайте случайный FloatTensor размера 3x4x5\n",
        "x = torch.FloatTensor(3, 4, 5)"
      ],
      "metadata": {
        "execution": {
          "iopub.status.busy": "2022-06-24T07:08:35.551804Z",
          "iopub.execute_input": "2022-06-24T07:08:35.552336Z",
          "iopub.status.idle": "2022-06-24T07:08:35.558706Z",
          "shell.execute_reply.started": "2022-06-24T07:08:35.552289Z",
          "shell.execute_reply": "2022-06-24T07:08:35.556792Z"
        },
        "trusted": true,
        "id": "g6vTmRaLCPGF"
      },
      "execution_count": 2,
      "outputs": []
    },
    {
      "cell_type": "code",
      "source": [
        "# Выведите его форму (shape)\n",
        "x.shape"
      ],
      "metadata": {
        "execution": {
          "iopub.status.busy": "2022-06-24T07:08:35.782621Z",
          "iopub.execute_input": "2022-06-24T07:08:35.783209Z",
          "iopub.status.idle": "2022-06-24T07:08:35.791576Z",
          "shell.execute_reply.started": "2022-06-24T07:08:35.783138Z",
          "shell.execute_reply": "2022-06-24T07:08:35.790596Z"
        },
        "trusted": true,
        "colab": {
          "base_uri": "https://localhost:8080/"
        },
        "id": "awtZhw_XCPGG",
        "outputId": "5e127752-5a4a-4ee8-ff01-4a0f36626587"
      },
      "execution_count": 3,
      "outputs": [
        {
          "output_type": "execute_result",
          "data": {
            "text/plain": [
              "torch.Size([3, 4, 5])"
            ]
          },
          "metadata": {},
          "execution_count": 3
        }
      ]
    },
    {
      "cell_type": "code",
      "source": [
        "# Приведите его к форме 6 X 10\n",
        "z = x.reshape(6, 10) \n",
        "z"
      ],
      "metadata": {
        "execution": {
          "iopub.status.busy": "2022-06-24T07:08:36.043508Z",
          "iopub.execute_input": "2022-06-24T07:08:36.045555Z",
          "iopub.status.idle": "2022-06-24T07:08:36.057391Z",
          "shell.execute_reply.started": "2022-06-24T07:08:36.045482Z",
          "shell.execute_reply": "2022-06-24T07:08:36.055905Z"
        },
        "trusted": true,
        "colab": {
          "base_uri": "https://localhost:8080/"
        },
        "id": "Xp2vC3dSCPGH",
        "outputId": "7cfa9d66-0d0a-414f-83b8-47301b90020a"
      },
      "execution_count": 4,
      "outputs": [
        {
          "output_type": "execute_result",
          "data": {
            "text/plain": [
              "tensor([[6.3932e-37, 0.0000e+00, 9.1084e-44, 0.0000e+00, 6.3985e-37, 0.0000e+00,\n",
              "         6.3985e-37, 0.0000e+00, 3.5733e-43, 0.0000e+00],\n",
              "        [8.2677e-44, 0.0000e+00, 6.3985e-37, 0.0000e+00, 6.3985e-37, 0.0000e+00,\n",
              "         3.5733e-43, 0.0000e+00, 0.0000e+00, 0.0000e+00],\n",
              "        [0.0000e+00, 0.0000e+00, 0.0000e+00, 0.0000e+00, 3.5733e-43, 0.0000e+00,\n",
              "         0.0000e+00, 0.0000e+00, 0.0000e+00, 0.0000e+00],\n",
              "        [0.0000e+00, 0.0000e+00, 3.5733e-43, 0.0000e+00, 0.0000e+00, 0.0000e+00,\n",
              "         0.0000e+00, 0.0000e+00, 0.0000e+00, 0.0000e+00],\n",
              "        [3.5733e-43, 0.0000e+00, 0.0000e+00, 0.0000e+00, 0.0000e+00, 0.0000e+00,\n",
              "         0.0000e+00, 0.0000e+00, 3.5733e-43, 0.0000e+00],\n",
              "        [0.0000e+00, 0.0000e+00, 0.0000e+00, 0.0000e+00, 0.0000e+00, 0.0000e+00,\n",
              "         0.0000e+00, 0.0000e+00, 0.0000e+00, 0.0000e+00]])"
            ]
          },
          "metadata": {},
          "execution_count": 4
        }
      ]
    },
    {
      "cell_type": "code",
      "source": [
        "# Умножьте его на вектор [1, 4, 2, 2, 1] поэлементно\n",
        "y = np.array([1, 4, 2, 2, 1])\n",
        "x * y"
      ],
      "metadata": {
        "execution": {
          "iopub.status.busy": "2022-06-24T07:08:36.350612Z",
          "iopub.execute_input": "2022-06-24T07:08:36.351652Z",
          "iopub.status.idle": "2022-06-24T07:08:36.359803Z",
          "shell.execute_reply.started": "2022-06-24T07:08:36.351613Z",
          "shell.execute_reply": "2022-06-24T07:08:36.358572Z"
        },
        "trusted": true,
        "colab": {
          "base_uri": "https://localhost:8080/"
        },
        "id": "bISkg_s2CPGH",
        "outputId": "98c8a3eb-a21c-44d1-98b1-9b7d2513f27a"
      },
      "execution_count": 5,
      "outputs": [
        {
          "output_type": "execute_result",
          "data": {
            "text/plain": [
              "tensor([[[6.3932e-37, 0.0000e+00, 1.8217e-43, 0.0000e+00, 6.3985e-37],\n",
              "         [0.0000e+00, 2.5594e-36, 0.0000e+00, 7.1466e-43, 0.0000e+00],\n",
              "         [8.2677e-44, 0.0000e+00, 1.2797e-36, 0.0000e+00, 6.3985e-37],\n",
              "         [0.0000e+00, 1.4293e-42, 0.0000e+00, 0.0000e+00, 0.0000e+00]],\n",
              "\n",
              "        [[0.0000e+00, 0.0000e+00, 0.0000e+00, 0.0000e+00, 3.5733e-43],\n",
              "         [0.0000e+00, 0.0000e+00, 0.0000e+00, 0.0000e+00, 0.0000e+00],\n",
              "         [0.0000e+00, 0.0000e+00, 7.1466e-43, 0.0000e+00, 0.0000e+00],\n",
              "         [0.0000e+00, 0.0000e+00, 0.0000e+00, 0.0000e+00, 0.0000e+00]],\n",
              "\n",
              "        [[3.5733e-43, 0.0000e+00, 0.0000e+00, 0.0000e+00, 0.0000e+00],\n",
              "         [0.0000e+00, 0.0000e+00, 0.0000e+00, 7.1466e-43, 0.0000e+00],\n",
              "         [0.0000e+00, 0.0000e+00, 0.0000e+00, 0.0000e+00, 0.0000e+00],\n",
              "         [0.0000e+00, 0.0000e+00, 0.0000e+00, 0.0000e+00, 0.0000e+00]]],\n",
              "       dtype=torch.float64)"
            ]
          },
          "metadata": {},
          "execution_count": 5
        }
      ]
    },
    {
      "cell_type": "code",
      "source": [
        "# Умножьте тензор матрично на себя, чтобы результат был размерности 6x6\n",
        "z.matmul(z.clone().reshape(10, 6))"
      ],
      "metadata": {
        "execution": {
          "iopub.status.busy": "2022-06-24T07:13:28.497383Z",
          "iopub.execute_input": "2022-06-24T07:13:28.497759Z",
          "iopub.status.idle": "2022-06-24T07:13:28.506952Z",
          "shell.execute_reply.started": "2022-06-24T07:13:28.497729Z",
          "shell.execute_reply": "2022-06-24T07:13:28.505828Z"
        },
        "trusted": true,
        "colab": {
          "base_uri": "https://localhost:8080/"
        },
        "id": "rlBgJKvICPGI",
        "outputId": "0ba05e93-8e36-4fd8-cfd3-4a20a54f93a2"
      },
      "execution_count": 6,
      "outputs": [
        {
          "output_type": "execute_result",
          "data": {
            "text/plain": [
              "tensor([[0., 0., 0., 0., 0., 0.],\n",
              "        [0., 0., 0., 0., 0., 0.],\n",
              "        [0., 0., 0., 0., 0., 0.],\n",
              "        [0., 0., 0., 0., 0., 0.],\n",
              "        [0., 0., 0., 0., 0., 0.],\n",
              "        [0., 0., 0., 0., 0., 0.]])"
            ]
          },
          "metadata": {},
          "execution_count": 6
        }
      ]
    },
    {
      "cell_type": "code",
      "source": [
        "# Посчитайте производную функции y = x**3 + z - 75*t в точке (1, 0.5, 2)\n",
        "x=torch.tensor(1.0, requires_grad=True) \n",
        "z=torch.tensor(0.5, requires_grad=True) \n",
        "t=torch.tensor(2.0, requires_grad=True) \n",
        "y = x**3 + z - 75*t \n",
        "y.backward() \n",
        "print(x.grad)\n",
        "print(z.grad)\n",
        "print(t.grad)"
      ],
      "metadata": {
        "execution": {
          "iopub.status.busy": "2022-06-24T07:17:33.975430Z",
          "iopub.execute_input": "2022-06-24T07:17:33.975808Z",
          "iopub.status.idle": "2022-06-24T07:17:33.986561Z",
          "shell.execute_reply.started": "2022-06-24T07:17:33.975778Z",
          "shell.execute_reply": "2022-06-24T07:17:33.985305Z"
        },
        "trusted": true,
        "colab": {
          "base_uri": "https://localhost:8080/"
        },
        "id": "W_y3Rm_WCPGI",
        "outputId": "86dfd6fc-91cf-43b6-c76d-cacf356edf1d"
      },
      "execution_count": 7,
      "outputs": [
        {
          "output_type": "stream",
          "name": "stdout",
          "text": [
            "tensor(3.)\n",
            "tensor(1.)\n",
            "tensor(-75.)\n"
          ]
        }
      ]
    },
    {
      "cell_type": "code",
      "source": [
        "# Создайте единичный тензор размера 5x6\n",
        "x = torch.ones(5, 6)\n",
        "x"
      ],
      "metadata": {
        "execution": {
          "iopub.status.busy": "2022-06-24T07:21:49.808369Z",
          "iopub.execute_input": "2022-06-24T07:21:49.808772Z",
          "iopub.status.idle": "2022-06-24T07:21:49.818024Z",
          "shell.execute_reply.started": "2022-06-24T07:21:49.808741Z",
          "shell.execute_reply": "2022-06-24T07:21:49.817097Z"
        },
        "trusted": true,
        "colab": {
          "base_uri": "https://localhost:8080/"
        },
        "id": "H1aSrEBLCPGJ",
        "outputId": "dd3ad955-7aec-48e5-d2a8-fe04c1d3490c"
      },
      "execution_count": 8,
      "outputs": [
        {
          "output_type": "execute_result",
          "data": {
            "text/plain": [
              "tensor([[1., 1., 1., 1., 1., 1.],\n",
              "        [1., 1., 1., 1., 1., 1.],\n",
              "        [1., 1., 1., 1., 1., 1.],\n",
              "        [1., 1., 1., 1., 1., 1.],\n",
              "        [1., 1., 1., 1., 1., 1.]])"
            ]
          },
          "metadata": {},
          "execution_count": 8
        }
      ]
    },
    {
      "cell_type": "code",
      "source": [
        "# Переведите его в формат numpy\n",
        "x = x.numpy()\n",
        "x"
      ],
      "metadata": {
        "execution": {
          "iopub.status.busy": "2022-06-24T07:21:50.313868Z",
          "iopub.execute_input": "2022-06-24T07:21:50.314867Z",
          "iopub.status.idle": "2022-06-24T07:21:50.322322Z",
          "shell.execute_reply.started": "2022-06-24T07:21:50.314823Z",
          "shell.execute_reply": "2022-06-24T07:21:50.321078Z"
        },
        "trusted": true,
        "colab": {
          "base_uri": "https://localhost:8080/"
        },
        "id": "Ve7-2VCnCPGJ",
        "outputId": "b70b7497-fc2e-4546-94de-6088f2b7d098"
      },
      "execution_count": 9,
      "outputs": [
        {
          "output_type": "execute_result",
          "data": {
            "text/plain": [
              "array([[1., 1., 1., 1., 1., 1.],\n",
              "       [1., 1., 1., 1., 1., 1.],\n",
              "       [1., 1., 1., 1., 1., 1.],\n",
              "       [1., 1., 1., 1., 1., 1.],\n",
              "       [1., 1., 1., 1., 1., 1.]], dtype=float32)"
            ]
          },
          "metadata": {},
          "execution_count": 9
        }
      ]
    },
    {
      "cell_type": "code",
      "source": [
        "# Давайте теперь пооптимизируем: возьмите функцию y = x**w1 - 2 * x**2 + 5\n",
        "# Посчитайте \n"
      ],
      "metadata": {
        "id": "3yLevGZgCPGK"
      },
      "execution_count": 10,
      "outputs": []
    },
    {
      "cell_type": "code",
      "source": [
        ""
      ],
      "metadata": {
        "id": "EPQrLMCrCUHT"
      },
      "execution_count": null,
      "outputs": []
    }
  ]
}