{
  "metadata": {
    "kernelspec": {
      "language": "python",
      "display_name": "Python 3",
      "name": "python3"
    },
    "language_info": {
      "name": "python",
      "version": "3.7.12",
      "mimetype": "text/x-python",
      "codemirror_mode": {
        "name": "ipython",
        "version": 3
      },
      "pygments_lexer": "ipython3",
      "nbconvert_exporter": "python",
      "file_extension": ".py"
    },
    "colab": {
      "name": "HW_06.ipynb",
      "provenance": []
    },
    "accelerator": "GPU",
    "gpuClass": "standard"
  },
  "nbformat_minor": 0,
  "nbformat": 4,
  "cells": [
    {
      "cell_type": "code",
      "source": [
        "import pandas as pd\n",
        "import numpy as np\n",
        "\n",
        "from sklearn.utils import shuffle"
      ],
      "metadata": {
        "execution": {
          "iopub.status.busy": "2022-07-12T16:32:56.445281Z",
          "iopub.execute_input": "2022-07-12T16:32:56.445594Z",
          "iopub.status.idle": "2022-07-12T16:32:57.330645Z",
          "shell.execute_reply.started": "2022-07-12T16:32:56.445508Z",
          "shell.execute_reply": "2022-07-12T16:32:57.329718Z"
        },
        "trusted": true,
        "id": "vNW8eQU-lKRt"
      },
      "execution_count": 1,
      "outputs": []
    },
    {
      "cell_type": "code",
      "source": [
        "max_words = 3000\n",
        "max_len = 30\n",
        "num_classes = 1\n",
        "\n",
        "# Training\n",
        "epochs = 5\n",
        "batch_size = 512\n",
        "print_batch_n = 100"
      ],
      "metadata": {
        "execution": {
          "iopub.status.busy": "2022-07-12T16:32:57.332734Z",
          "iopub.execute_input": "2022-07-12T16:32:57.333595Z",
          "iopub.status.idle": "2022-07-12T16:32:57.340064Z",
          "shell.execute_reply.started": "2022-07-12T16:32:57.333555Z",
          "shell.execute_reply": "2022-07-12T16:32:57.339157Z"
        },
        "trusted": true,
        "id": "MAyJ8yoKlKRx"
      },
      "execution_count": 60,
      "outputs": []
    },
    {
      "cell_type": "code",
      "source": [
        "from google.colab import drive\n",
        "drive.mount('/content/drive')"
      ],
      "metadata": {
        "colab": {
          "base_uri": "https://localhost:8080/"
        },
        "id": "lpJFnFB9lURa",
        "outputId": "d5e7220f-c1d3-48b4-9c5f-5007f7bf704d"
      },
      "execution_count": 3,
      "outputs": [
        {
          "output_type": "stream",
          "name": "stdout",
          "text": [
            "Mounted at /content/drive\n"
          ]
        }
      ]
    },
    {
      "cell_type": "code",
      "source": [
        "train = pd.read_csv('/content/drive/MyDrive/train.csv')"
      ],
      "metadata": {
        "id": "6s8T50cVl47n",
        "execution": {
          "iopub.status.busy": "2022-07-12T16:32:57.341561Z",
          "iopub.execute_input": "2022-07-12T16:32:57.342111Z",
          "iopub.status.idle": "2022-07-12T16:32:57.348465Z",
          "shell.execute_reply.started": "2022-07-12T16:32:57.342072Z",
          "shell.execute_reply": "2022-07-12T16:32:57.347644Z"
        },
        "trusted": true
      },
      "execution_count": 4,
      "outputs": []
    },
    {
      "cell_type": "code",
      "source": [
        "train = shuffle(train)"
      ],
      "metadata": {
        "execution": {
          "iopub.status.busy": "2022-07-12T16:32:57.453708Z",
          "iopub.execute_input": "2022-07-12T16:32:57.454359Z",
          "iopub.status.idle": "2022-07-12T16:32:57.464500Z",
          "shell.execute_reply.started": "2022-07-12T16:32:57.454322Z",
          "shell.execute_reply": "2022-07-12T16:32:57.463711Z"
        },
        "trusted": true,
        "id": "zxhbXd83lKRz"
      },
      "execution_count": 5,
      "outputs": []
    },
    {
      "cell_type": "code",
      "source": [
        "count_row = train.shape[0]\n",
        "train_size = int(count_row * 0.75)\n",
        "train_size"
      ],
      "metadata": {
        "execution": {
          "iopub.status.busy": "2022-07-12T16:32:57.467282Z",
          "iopub.execute_input": "2022-07-12T16:32:57.467622Z",
          "iopub.status.idle": "2022-07-12T16:32:57.475886Z",
          "shell.execute_reply.started": "2022-07-12T16:32:57.467588Z",
          "shell.execute_reply": "2022-07-12T16:32:57.474549Z"
        },
        "trusted": true,
        "colab": {
          "base_uri": "https://localhost:8080/"
        },
        "id": "1km-o5PjlKRz",
        "outputId": "6af4941a-0bcb-44e7-a330-062a0df73d48"
      },
      "execution_count": 6,
      "outputs": [
        {
          "output_type": "execute_result",
          "data": {
            "text/plain": [
              "23971"
            ]
          },
          "metadata": {},
          "execution_count": 6
        }
      ]
    },
    {
      "cell_type": "code",
      "source": [
        "df_train, df_val = train.iloc[:train_size,:], train.iloc[train_size:,:]"
      ],
      "metadata": {
        "execution": {
          "iopub.status.busy": "2022-07-12T16:32:57.477671Z",
          "iopub.execute_input": "2022-07-12T16:32:57.478078Z",
          "iopub.status.idle": "2022-07-12T16:32:57.484914Z",
          "shell.execute_reply.started": "2022-07-12T16:32:57.478043Z",
          "shell.execute_reply": "2022-07-12T16:32:57.483268Z"
        },
        "trusted": true,
        "id": "HQQCCoNvlKR0"
      },
      "execution_count": 7,
      "outputs": []
    },
    {
      "cell_type": "code",
      "source": [
        "df_train.shape, df_val.shape"
      ],
      "metadata": {
        "execution": {
          "iopub.status.busy": "2022-07-12T16:32:57.487281Z",
          "iopub.execute_input": "2022-07-12T16:32:57.487770Z",
          "iopub.status.idle": "2022-07-12T16:32:57.495856Z",
          "shell.execute_reply.started": "2022-07-12T16:32:57.487675Z",
          "shell.execute_reply": "2022-07-12T16:32:57.494639Z"
        },
        "trusted": true,
        "colab": {
          "base_uri": "https://localhost:8080/"
        },
        "id": "9zuwVXpKlKR0",
        "outputId": "51d8f719-fb6d-4486-9a7a-f726c6e15889"
      },
      "execution_count": 8,
      "outputs": [
        {
          "output_type": "execute_result",
          "data": {
            "text/plain": [
              "((23971, 3), (7991, 3))"
            ]
          },
          "metadata": {},
          "execution_count": 8
        }
      ]
    },
    {
      "cell_type": "code",
      "source": [
        "df_train.head()"
      ],
      "metadata": {
        "id": "KBSf-OfDzWOI",
        "outputId": "a2da0dec-268c-4a7b-ac29-5a840680ceba",
        "execution": {
          "iopub.status.busy": "2022-07-12T16:32:57.497561Z",
          "iopub.execute_input": "2022-07-12T16:32:57.497977Z",
          "iopub.status.idle": "2022-07-12T16:32:57.519696Z",
          "shell.execute_reply.started": "2022-07-12T16:32:57.497941Z",
          "shell.execute_reply": "2022-07-12T16:32:57.518889Z"
        },
        "trusted": true,
        "colab": {
          "base_uri": "https://localhost:8080/",
          "height": 206
        }
      },
      "execution_count": 10,
      "outputs": [
        {
          "output_type": "execute_result",
          "data": {
            "text/plain": [
              "          id  label                                              tweet\n",
              "17493  17494      0  make custom soundtrack for your #promotional #...\n",
              "29002  29003      1  @user #prank #dad #home #slapcam #black  #wait...\n",
              "27386  27387      0  werk put inðð¾ð¨staed with a 3mi run an...\n",
              "11138  11139      0                  gonna be doing new content soon  \n",
              "653      654      0  how utterly  :  people with incurable #stupidi..."
            ],
            "text/html": [
              "\n",
              "  <div id=\"df-4585b49d-99bd-40be-bb84-858eb26c657e\">\n",
              "    <div class=\"colab-df-container\">\n",
              "      <div>\n",
              "<style scoped>\n",
              "    .dataframe tbody tr th:only-of-type {\n",
              "        vertical-align: middle;\n",
              "    }\n",
              "\n",
              "    .dataframe tbody tr th {\n",
              "        vertical-align: top;\n",
              "    }\n",
              "\n",
              "    .dataframe thead th {\n",
              "        text-align: right;\n",
              "    }\n",
              "</style>\n",
              "<table border=\"1\" class=\"dataframe\">\n",
              "  <thead>\n",
              "    <tr style=\"text-align: right;\">\n",
              "      <th></th>\n",
              "      <th>id</th>\n",
              "      <th>label</th>\n",
              "      <th>tweet</th>\n",
              "    </tr>\n",
              "  </thead>\n",
              "  <tbody>\n",
              "    <tr>\n",
              "      <th>17493</th>\n",
              "      <td>17494</td>\n",
              "      <td>0</td>\n",
              "      <td>make custom soundtrack for your #promotional #...</td>\n",
              "    </tr>\n",
              "    <tr>\n",
              "      <th>29002</th>\n",
              "      <td>29003</td>\n",
              "      <td>1</td>\n",
              "      <td>@user #prank #dad #home #slapcam #black  #wait...</td>\n",
              "    </tr>\n",
              "    <tr>\n",
              "      <th>27386</th>\n",
              "      <td>27387</td>\n",
              "      <td>0</td>\n",
              "      <td>werk put inðð¾ð¨staed with a 3mi run an...</td>\n",
              "    </tr>\n",
              "    <tr>\n",
              "      <th>11138</th>\n",
              "      <td>11139</td>\n",
              "      <td>0</td>\n",
              "      <td>gonna be doing new content soon</td>\n",
              "    </tr>\n",
              "    <tr>\n",
              "      <th>653</th>\n",
              "      <td>654</td>\n",
              "      <td>0</td>\n",
              "      <td>how utterly  :  people with incurable #stupidi...</td>\n",
              "    </tr>\n",
              "  </tbody>\n",
              "</table>\n",
              "</div>\n",
              "      <button class=\"colab-df-convert\" onclick=\"convertToInteractive('df-4585b49d-99bd-40be-bb84-858eb26c657e')\"\n",
              "              title=\"Convert this dataframe to an interactive table.\"\n",
              "              style=\"display:none;\">\n",
              "        \n",
              "  <svg xmlns=\"http://www.w3.org/2000/svg\" height=\"24px\"viewBox=\"0 0 24 24\"\n",
              "       width=\"24px\">\n",
              "    <path d=\"M0 0h24v24H0V0z\" fill=\"none\"/>\n",
              "    <path d=\"M18.56 5.44l.94 2.06.94-2.06 2.06-.94-2.06-.94-.94-2.06-.94 2.06-2.06.94zm-11 1L8.5 8.5l.94-2.06 2.06-.94-2.06-.94L8.5 2.5l-.94 2.06-2.06.94zm10 10l.94 2.06.94-2.06 2.06-.94-2.06-.94-.94-2.06-.94 2.06-2.06.94z\"/><path d=\"M17.41 7.96l-1.37-1.37c-.4-.4-.92-.59-1.43-.59-.52 0-1.04.2-1.43.59L10.3 9.45l-7.72 7.72c-.78.78-.78 2.05 0 2.83L4 21.41c.39.39.9.59 1.41.59.51 0 1.02-.2 1.41-.59l7.78-7.78 2.81-2.81c.8-.78.8-2.07 0-2.86zM5.41 20L4 18.59l7.72-7.72 1.47 1.35L5.41 20z\"/>\n",
              "  </svg>\n",
              "      </button>\n",
              "      \n",
              "  <style>\n",
              "    .colab-df-container {\n",
              "      display:flex;\n",
              "      flex-wrap:wrap;\n",
              "      gap: 12px;\n",
              "    }\n",
              "\n",
              "    .colab-df-convert {\n",
              "      background-color: #E8F0FE;\n",
              "      border: none;\n",
              "      border-radius: 50%;\n",
              "      cursor: pointer;\n",
              "      display: none;\n",
              "      fill: #1967D2;\n",
              "      height: 32px;\n",
              "      padding: 0 0 0 0;\n",
              "      width: 32px;\n",
              "    }\n",
              "\n",
              "    .colab-df-convert:hover {\n",
              "      background-color: #E2EBFA;\n",
              "      box-shadow: 0px 1px 2px rgba(60, 64, 67, 0.3), 0px 1px 3px 1px rgba(60, 64, 67, 0.15);\n",
              "      fill: #174EA6;\n",
              "    }\n",
              "\n",
              "    [theme=dark] .colab-df-convert {\n",
              "      background-color: #3B4455;\n",
              "      fill: #D2E3FC;\n",
              "    }\n",
              "\n",
              "    [theme=dark] .colab-df-convert:hover {\n",
              "      background-color: #434B5C;\n",
              "      box-shadow: 0px 1px 3px 1px rgba(0, 0, 0, 0.15);\n",
              "      filter: drop-shadow(0px 1px 2px rgba(0, 0, 0, 0.3));\n",
              "      fill: #FFFFFF;\n",
              "    }\n",
              "  </style>\n",
              "\n",
              "      <script>\n",
              "        const buttonEl =\n",
              "          document.querySelector('#df-4585b49d-99bd-40be-bb84-858eb26c657e button.colab-df-convert');\n",
              "        buttonEl.style.display =\n",
              "          google.colab.kernel.accessAllowed ? 'block' : 'none';\n",
              "\n",
              "        async function convertToInteractive(key) {\n",
              "          const element = document.querySelector('#df-4585b49d-99bd-40be-bb84-858eb26c657e');\n",
              "          const dataTable =\n",
              "            await google.colab.kernel.invokeFunction('convertToInteractive',\n",
              "                                                     [key], {});\n",
              "          if (!dataTable) return;\n",
              "\n",
              "          const docLinkHtml = 'Like what you see? Visit the ' +\n",
              "            '<a target=\"_blank\" href=https://colab.research.google.com/notebooks/data_table.ipynb>data table notebook</a>'\n",
              "            + ' to learn more about interactive tables.';\n",
              "          element.innerHTML = '';\n",
              "          dataTable['output_type'] = 'display_data';\n",
              "          await google.colab.output.renderOutput(dataTable, element);\n",
              "          const docLink = document.createElement('div');\n",
              "          docLink.innerHTML = docLinkHtml;\n",
              "          element.appendChild(docLink);\n",
              "        }\n",
              "      </script>\n",
              "    </div>\n",
              "  </div>\n",
              "  "
            ]
          },
          "metadata": {},
          "execution_count": 10
        }
      ]
    },
    {
      "cell_type": "markdown",
      "source": [
        "0 - negative<br>\n",
        "1 - positive"
      ],
      "metadata": {
        "id": "CRaO-Ub5e8hx"
      }
    },
    {
      "cell_type": "code",
      "source": [
        "df_train['label'].value_counts()"
      ],
      "metadata": {
        "id": "8lYmshAoT57x",
        "outputId": "1559b842-5568-47a9-d973-b529a1bd705e",
        "execution": {
          "iopub.status.busy": "2022-07-12T16:32:57.533082Z",
          "iopub.execute_input": "2022-07-12T16:32:57.533739Z",
          "iopub.status.idle": "2022-07-12T16:32:57.545843Z",
          "shell.execute_reply.started": "2022-07-12T16:32:57.533702Z",
          "shell.execute_reply": "2022-07-12T16:32:57.544922Z"
        },
        "trusted": true,
        "colab": {
          "base_uri": "https://localhost:8080/"
        }
      },
      "execution_count": 11,
      "outputs": [
        {
          "output_type": "execute_result",
          "data": {
            "text/plain": [
              "0    22263\n",
              "1     1708\n",
              "Name: label, dtype: int64"
            ]
          },
          "metadata": {},
          "execution_count": 11
        }
      ]
    },
    {
      "cell_type": "code",
      "source": [
        "def balance_df(df, target_name):\n",
        "\n",
        "    target_counts = df[target_name].value_counts()\n",
        "\n",
        "    major_class_name = target_counts.argmax()\n",
        "    minor_class_name = target_counts.argmin()\n",
        "\n",
        "    disbalance_coeff = int(target_counts[major_class_name] / target_counts[minor_class_name]) - 1\n",
        "\n",
        "    for i in range(disbalance_coeff):\n",
        "        sample = df[df[target_name] == minor_class_name].sample(target_counts[minor_class_name])\n",
        "        df = df.append(sample, ignore_index=True)\n",
        "\n",
        "    return df.sample(frac=1) "
      ],
      "metadata": {
        "execution": {
          "iopub.status.busy": "2022-07-12T16:32:57.547046Z",
          "iopub.execute_input": "2022-07-12T16:32:57.547969Z",
          "iopub.status.idle": "2022-07-12T16:32:57.561451Z",
          "shell.execute_reply.started": "2022-07-12T16:32:57.547933Z",
          "shell.execute_reply": "2022-07-12T16:32:57.560566Z"
        },
        "trusted": true,
        "id": "byeSK4KElKR3"
      },
      "execution_count": 12,
      "outputs": []
    },
    {
      "cell_type": "code",
      "source": [
        "df_train = balance_df(df_train, 'label')"
      ],
      "metadata": {
        "execution": {
          "iopub.status.busy": "2022-07-12T16:32:57.562603Z",
          "iopub.execute_input": "2022-07-12T16:32:57.563597Z",
          "iopub.status.idle": "2022-07-12T16:32:57.626080Z",
          "shell.execute_reply.started": "2022-07-12T16:32:57.563561Z",
          "shell.execute_reply": "2022-07-12T16:32:57.625159Z"
        },
        "trusted": true,
        "id": "AYVFEQvllKR3"
      },
      "execution_count": 13,
      "outputs": []
    },
    {
      "cell_type": "code",
      "source": [
        "df_val.tail()"
      ],
      "metadata": {
        "id": "_9l0iHhaI0O1",
        "outputId": "c3a0eab3-540a-4196-d69c-f191a7ca1e80",
        "execution": {
          "iopub.status.busy": "2022-07-12T16:32:57.630006Z",
          "iopub.execute_input": "2022-07-12T16:32:57.630722Z",
          "iopub.status.idle": "2022-07-12T16:32:57.647063Z",
          "shell.execute_reply.started": "2022-07-12T16:32:57.630685Z",
          "shell.execute_reply": "2022-07-12T16:32:57.646091Z"
        },
        "trusted": true,
        "colab": {
          "base_uri": "https://localhost:8080/",
          "height": 206
        }
      },
      "execution_count": 14,
      "outputs": [
        {
          "output_type": "execute_result",
          "data": {
            "text/plain": [
              "          id  label                                              tweet\n",
              "21203  21204      0  need a hug, nececito un abrazo. ð #overwhel...\n",
              "12715  12716      0  destination wedding aruba @user  arubaweddings...\n",
              "3290    3291      0  @user just bought the wiley fox storm and will...\n",
              "27352  27353      0  choose happiness.   #personaldevelopment #home...\n",
              "23707  23708      0  watched @user @user and #tonyawards to catch a..."
            ],
            "text/html": [
              "\n",
              "  <div id=\"df-03b4e9b2-167d-4739-a2b5-a4231130d9b4\">\n",
              "    <div class=\"colab-df-container\">\n",
              "      <div>\n",
              "<style scoped>\n",
              "    .dataframe tbody tr th:only-of-type {\n",
              "        vertical-align: middle;\n",
              "    }\n",
              "\n",
              "    .dataframe tbody tr th {\n",
              "        vertical-align: top;\n",
              "    }\n",
              "\n",
              "    .dataframe thead th {\n",
              "        text-align: right;\n",
              "    }\n",
              "</style>\n",
              "<table border=\"1\" class=\"dataframe\">\n",
              "  <thead>\n",
              "    <tr style=\"text-align: right;\">\n",
              "      <th></th>\n",
              "      <th>id</th>\n",
              "      <th>label</th>\n",
              "      <th>tweet</th>\n",
              "    </tr>\n",
              "  </thead>\n",
              "  <tbody>\n",
              "    <tr>\n",
              "      <th>21203</th>\n",
              "      <td>21204</td>\n",
              "      <td>0</td>\n",
              "      <td>need a hug, nececito un abrazo. ð #overwhel...</td>\n",
              "    </tr>\n",
              "    <tr>\n",
              "      <th>12715</th>\n",
              "      <td>12716</td>\n",
              "      <td>0</td>\n",
              "      <td>destination wedding aruba @user  arubaweddings...</td>\n",
              "    </tr>\n",
              "    <tr>\n",
              "      <th>3290</th>\n",
              "      <td>3291</td>\n",
              "      <td>0</td>\n",
              "      <td>@user just bought the wiley fox storm and will...</td>\n",
              "    </tr>\n",
              "    <tr>\n",
              "      <th>27352</th>\n",
              "      <td>27353</td>\n",
              "      <td>0</td>\n",
              "      <td>choose happiness.   #personaldevelopment #home...</td>\n",
              "    </tr>\n",
              "    <tr>\n",
              "      <th>23707</th>\n",
              "      <td>23708</td>\n",
              "      <td>0</td>\n",
              "      <td>watched @user @user and #tonyawards to catch a...</td>\n",
              "    </tr>\n",
              "  </tbody>\n",
              "</table>\n",
              "</div>\n",
              "      <button class=\"colab-df-convert\" onclick=\"convertToInteractive('df-03b4e9b2-167d-4739-a2b5-a4231130d9b4')\"\n",
              "              title=\"Convert this dataframe to an interactive table.\"\n",
              "              style=\"display:none;\">\n",
              "        \n",
              "  <svg xmlns=\"http://www.w3.org/2000/svg\" height=\"24px\"viewBox=\"0 0 24 24\"\n",
              "       width=\"24px\">\n",
              "    <path d=\"M0 0h24v24H0V0z\" fill=\"none\"/>\n",
              "    <path d=\"M18.56 5.44l.94 2.06.94-2.06 2.06-.94-2.06-.94-.94-2.06-.94 2.06-2.06.94zm-11 1L8.5 8.5l.94-2.06 2.06-.94-2.06-.94L8.5 2.5l-.94 2.06-2.06.94zm10 10l.94 2.06.94-2.06 2.06-.94-2.06-.94-.94-2.06-.94 2.06-2.06.94z\"/><path d=\"M17.41 7.96l-1.37-1.37c-.4-.4-.92-.59-1.43-.59-.52 0-1.04.2-1.43.59L10.3 9.45l-7.72 7.72c-.78.78-.78 2.05 0 2.83L4 21.41c.39.39.9.59 1.41.59.51 0 1.02-.2 1.41-.59l7.78-7.78 2.81-2.81c.8-.78.8-2.07 0-2.86zM5.41 20L4 18.59l7.72-7.72 1.47 1.35L5.41 20z\"/>\n",
              "  </svg>\n",
              "      </button>\n",
              "      \n",
              "  <style>\n",
              "    .colab-df-container {\n",
              "      display:flex;\n",
              "      flex-wrap:wrap;\n",
              "      gap: 12px;\n",
              "    }\n",
              "\n",
              "    .colab-df-convert {\n",
              "      background-color: #E8F0FE;\n",
              "      border: none;\n",
              "      border-radius: 50%;\n",
              "      cursor: pointer;\n",
              "      display: none;\n",
              "      fill: #1967D2;\n",
              "      height: 32px;\n",
              "      padding: 0 0 0 0;\n",
              "      width: 32px;\n",
              "    }\n",
              "\n",
              "    .colab-df-convert:hover {\n",
              "      background-color: #E2EBFA;\n",
              "      box-shadow: 0px 1px 2px rgba(60, 64, 67, 0.3), 0px 1px 3px 1px rgba(60, 64, 67, 0.15);\n",
              "      fill: #174EA6;\n",
              "    }\n",
              "\n",
              "    [theme=dark] .colab-df-convert {\n",
              "      background-color: #3B4455;\n",
              "      fill: #D2E3FC;\n",
              "    }\n",
              "\n",
              "    [theme=dark] .colab-df-convert:hover {\n",
              "      background-color: #434B5C;\n",
              "      box-shadow: 0px 1px 3px 1px rgba(0, 0, 0, 0.15);\n",
              "      filter: drop-shadow(0px 1px 2px rgba(0, 0, 0, 0.3));\n",
              "      fill: #FFFFFF;\n",
              "    }\n",
              "  </style>\n",
              "\n",
              "      <script>\n",
              "        const buttonEl =\n",
              "          document.querySelector('#df-03b4e9b2-167d-4739-a2b5-a4231130d9b4 button.colab-df-convert');\n",
              "        buttonEl.style.display =\n",
              "          google.colab.kernel.accessAllowed ? 'block' : 'none';\n",
              "\n",
              "        async function convertToInteractive(key) {\n",
              "          const element = document.querySelector('#df-03b4e9b2-167d-4739-a2b5-a4231130d9b4');\n",
              "          const dataTable =\n",
              "            await google.colab.kernel.invokeFunction('convertToInteractive',\n",
              "                                                     [key], {});\n",
              "          if (!dataTable) return;\n",
              "\n",
              "          const docLinkHtml = 'Like what you see? Visit the ' +\n",
              "            '<a target=\"_blank\" href=https://colab.research.google.com/notebooks/data_table.ipynb>data table notebook</a>'\n",
              "            + ' to learn more about interactive tables.';\n",
              "          element.innerHTML = '';\n",
              "          dataTable['output_type'] = 'display_data';\n",
              "          await google.colab.output.renderOutput(dataTable, element);\n",
              "          const docLink = document.createElement('div');\n",
              "          docLink.innerHTML = docLinkHtml;\n",
              "          element.appendChild(docLink);\n",
              "        }\n",
              "      </script>\n",
              "    </div>\n",
              "  </div>\n",
              "  "
            ]
          },
          "metadata": {},
          "execution_count": 14
        }
      ]
    },
    {
      "cell_type": "code",
      "source": [
        "df_val['label'].value_counts()"
      ],
      "metadata": {
        "id": "F3lecy8oT-rJ",
        "outputId": "5fc9f73c-42c6-4158-c290-61198da7e34d",
        "execution": {
          "iopub.status.busy": "2022-07-12T16:32:57.651865Z",
          "iopub.execute_input": "2022-07-12T16:32:57.653712Z",
          "iopub.status.idle": "2022-07-12T16:32:57.664867Z",
          "shell.execute_reply.started": "2022-07-12T16:32:57.653677Z",
          "shell.execute_reply": "2022-07-12T16:32:57.663740Z"
        },
        "trusted": true,
        "colab": {
          "base_uri": "https://localhost:8080/"
        }
      },
      "execution_count": 15,
      "outputs": [
        {
          "output_type": "execute_result",
          "data": {
            "text/plain": [
              "0    7457\n",
              "1     534\n",
              "Name: label, dtype: int64"
            ]
          },
          "metadata": {},
          "execution_count": 15
        }
      ]
    },
    {
      "cell_type": "markdown",
      "source": [
        "### Предобработка"
      ],
      "metadata": {
        "id": "qEyvOxoOJDTP"
      }
    },
    {
      "cell_type": "code",
      "source": [
        "!pip install stop-words pymorphy2"
      ],
      "metadata": {
        "execution": {
          "iopub.status.busy": "2022-07-12T16:32:57.667767Z",
          "iopub.execute_input": "2022-07-12T16:32:57.671072Z",
          "iopub.status.idle": "2022-07-12T16:33:10.561452Z",
          "shell.execute_reply.started": "2022-07-12T16:32:57.671036Z",
          "shell.execute_reply": "2022-07-12T16:33:10.560237Z"
        },
        "trusted": true,
        "colab": {
          "base_uri": "https://localhost:8080/"
        },
        "id": "9jEbhYl2lKR4",
        "outputId": "6fdc5432-0d97-4580-8e2d-cb4ad6beb2c2"
      },
      "execution_count": 16,
      "outputs": [
        {
          "output_type": "stream",
          "name": "stdout",
          "text": [
            "Looking in indexes: https://pypi.org/simple, https://us-python.pkg.dev/colab-wheels/public/simple/\n",
            "Collecting stop-words\n",
            "  Downloading stop-words-2018.7.23.tar.gz (31 kB)\n",
            "Collecting pymorphy2\n",
            "  Downloading pymorphy2-0.9.1-py3-none-any.whl (55 kB)\n",
            "\u001b[K     |████████████████████████████████| 55 kB 4.4 MB/s \n",
            "\u001b[?25hCollecting pymorphy2-dicts-ru<3.0,>=2.4\n",
            "  Downloading pymorphy2_dicts_ru-2.4.417127.4579844-py2.py3-none-any.whl (8.2 MB)\n",
            "\u001b[K     |████████████████████████████████| 8.2 MB 26.1 MB/s \n",
            "\u001b[?25hCollecting dawg-python>=0.7.1\n",
            "  Downloading DAWG_Python-0.7.2-py2.py3-none-any.whl (11 kB)\n",
            "Requirement already satisfied: docopt>=0.6 in /usr/local/lib/python3.7/dist-packages (from pymorphy2) (0.6.2)\n",
            "Building wheels for collected packages: stop-words\n",
            "  Building wheel for stop-words (setup.py) ... \u001b[?25l\u001b[?25hdone\n",
            "  Created wheel for stop-words: filename=stop_words-2018.7.23-py3-none-any.whl size=32911 sha256=34038957858f9c10a4ac6a44cdbcd2c73c7fbc7b48de75ffea5a93174d46ff0a\n",
            "  Stored in directory: /root/.cache/pip/wheels/fb/86/b2/277b10b1ce9f73ce15059bf6975d4547cc4ec3feeb651978e9\n",
            "Successfully built stop-words\n",
            "Installing collected packages: pymorphy2-dicts-ru, dawg-python, stop-words, pymorphy2\n",
            "Successfully installed dawg-python-0.7.2 pymorphy2-0.9.1 pymorphy2-dicts-ru-2.4.417127.4579844 stop-words-2018.7.23\n"
          ]
        }
      ]
    },
    {
      "cell_type": "code",
      "source": [
        "from string import punctuation\n",
        "import nltk\n",
        "from nltk.corpus import stopwords\n",
        "from nltk.stem.wordnet import WordNetLemmatizer\n",
        "nltk.download('wordnet')\n",
        "nltk.download('stopwords')\n",
        "nltk.download('omw-1.4')\n",
        "import re"
      ],
      "metadata": {
        "id": "zuPoTViZRHlM",
        "execution": {
          "iopub.status.busy": "2022-07-12T16:33:10.563643Z",
          "iopub.execute_input": "2022-07-12T16:33:10.564645Z",
          "iopub.status.idle": "2022-07-12T16:33:11.423811Z",
          "shell.execute_reply.started": "2022-07-12T16:33:10.564600Z",
          "shell.execute_reply": "2022-07-12T16:33:11.422897Z"
        },
        "trusted": true,
        "colab": {
          "base_uri": "https://localhost:8080/"
        },
        "outputId": "8f813de2-2b19-4571-a996-7521b2fdff26"
      },
      "execution_count": 25,
      "outputs": [
        {
          "output_type": "stream",
          "name": "stderr",
          "text": [
            "[nltk_data] Downloading package wordnet to /root/nltk_data...\n",
            "[nltk_data]   Package wordnet is already up-to-date!\n",
            "[nltk_data] Downloading package stopwords to /root/nltk_data...\n",
            "[nltk_data]   Package stopwords is already up-to-date!\n",
            "[nltk_data] Downloading package omw-1.4 to /root/nltk_data...\n"
          ]
        }
      ]
    },
    {
      "cell_type": "code",
      "source": [
        "sw = stopwords.words('english')\n",
        "# sw"
      ],
      "metadata": {
        "id": "MrICmUgeRHlO",
        "execution": {
          "iopub.status.busy": "2022-07-12T16:33:11.425295Z",
          "iopub.execute_input": "2022-07-12T16:33:11.425697Z",
          "iopub.status.idle": "2022-07-12T16:33:11.433455Z",
          "shell.execute_reply.started": "2022-07-12T16:33:11.425661Z",
          "shell.execute_reply": "2022-07-12T16:33:11.432645Z"
        },
        "trusted": true
      },
      "execution_count": 18,
      "outputs": []
    },
    {
      "cell_type": "code",
      "source": [
        "puncts = set(punctuation)\n",
        "puncts"
      ],
      "metadata": {
        "id": "Kdmt_DVPjN4j",
        "outputId": "d8ce4255-312f-44e7-b57a-550c34b00b6f",
        "execution": {
          "iopub.status.busy": "2022-07-12T16:33:11.435727Z",
          "iopub.execute_input": "2022-07-12T16:33:11.436710Z",
          "iopub.status.idle": "2022-07-12T16:33:11.450330Z",
          "shell.execute_reply.started": "2022-07-12T16:33:11.436668Z",
          "shell.execute_reply": "2022-07-12T16:33:11.449479Z"
        },
        "trusted": true,
        "colab": {
          "base_uri": "https://localhost:8080/"
        }
      },
      "execution_count": 19,
      "outputs": [
        {
          "output_type": "execute_result",
          "data": {
            "text/plain": [
              "{'!',\n",
              " '\"',\n",
              " '#',\n",
              " '$',\n",
              " '%',\n",
              " '&',\n",
              " \"'\",\n",
              " '(',\n",
              " ')',\n",
              " '*',\n",
              " '+',\n",
              " ',',\n",
              " '-',\n",
              " '.',\n",
              " '/',\n",
              " ':',\n",
              " ';',\n",
              " '<',\n",
              " '=',\n",
              " '>',\n",
              " '?',\n",
              " '@',\n",
              " '[',\n",
              " '\\\\',\n",
              " ']',\n",
              " '^',\n",
              " '_',\n",
              " '`',\n",
              " '{',\n",
              " '|',\n",
              " '}',\n",
              " '~'}"
            ]
          },
          "metadata": {},
          "execution_count": 19
        }
      ]
    },
    {
      "cell_type": "code",
      "source": [
        "wnl = WordNetLemmatizer()\n",
        "\n",
        "def preprocess_text(txt):\n",
        "    txt = str(txt)\n",
        "    txt = \"\".join(c for c in txt if c not in puncts)\n",
        "    txt = txt.lower()\n",
        "    txt = re.sub(\"[â|ð|u|ððð|ðð]\", \"\", txt)\n",
        "    txt = [wnl.lemmatize(word) for word in txt.split() if word not in sw]\n",
        "    return \" \".join(txt)"
      ],
      "metadata": {
        "id": "A5aTsDZxjPym",
        "execution": {
          "iopub.status.busy": "2022-07-12T16:33:11.453501Z",
          "iopub.execute_input": "2022-07-12T16:33:11.455428Z",
          "iopub.status.idle": "2022-07-12T16:33:11.462252Z",
          "shell.execute_reply.started": "2022-07-12T16:33:11.455402Z",
          "shell.execute_reply": "2022-07-12T16:33:11.461192Z"
        },
        "trusted": true
      },
      "execution_count": 26,
      "outputs": []
    },
    {
      "cell_type": "code",
      "source": [
        "df_train['tweet'].iloc[:2].values"
      ],
      "metadata": {
        "id": "6J4Ybdk-jC-n",
        "outputId": "d7201051-d5ec-467f-9490-25abb2917480",
        "execution": {
          "iopub.status.busy": "2022-07-12T16:33:11.464014Z",
          "iopub.execute_input": "2022-07-12T16:33:11.464919Z",
          "iopub.status.idle": "2022-07-12T16:33:11.474812Z",
          "shell.execute_reply.started": "2022-07-12T16:33:11.464882Z",
          "shell.execute_reply": "2022-07-12T16:33:11.473559Z"
        },
        "trusted": true,
        "colab": {
          "base_uri": "https://localhost:8080/"
        }
      },
      "execution_count": 27,
      "outputs": [
        {
          "output_type": "execute_result",
          "data": {
            "text/plain": [
              "array(['about time i staed packing travelling amsterdam twodays   ',\n",
              "       'trump ny cochair i want obama to die of mad cow disease and michelle to go back to being a male   trump'],\n",
              "      dtype=object)"
            ]
          },
          "metadata": {},
          "execution_count": 27
        }
      ]
    },
    {
      "cell_type": "code",
      "source": [
        "df_train['tweet'] = df_train['tweet'].str.replace (r\"\"\"[^\\w\\s]+\"\"\",\"\", regex = True)"
      ],
      "metadata": {
        "execution": {
          "iopub.status.busy": "2022-07-12T16:33:11.476320Z",
          "iopub.execute_input": "2022-07-12T16:33:11.477027Z",
          "iopub.status.idle": "2022-07-12T16:33:11.763287Z",
          "shell.execute_reply.started": "2022-07-12T16:33:11.476992Z",
          "shell.execute_reply": "2022-07-12T16:33:11.762367Z"
        },
        "trusted": true,
        "id": "0USNkxKPlKR5"
      },
      "execution_count": 28,
      "outputs": []
    },
    {
      "cell_type": "code",
      "source": [
        "df_train['tweet']"
      ],
      "metadata": {
        "execution": {
          "iopub.status.busy": "2022-07-12T16:33:11.764435Z",
          "iopub.execute_input": "2022-07-12T16:33:11.764775Z",
          "iopub.status.idle": "2022-07-12T16:33:11.774891Z",
          "shell.execute_reply.started": "2022-07-12T16:33:11.764742Z",
          "shell.execute_reply": "2022-07-12T16:33:11.773891Z"
        },
        "trusted": true,
        "colab": {
          "base_uri": "https://localhost:8080/"
        },
        "id": "sJINuZ4blKR6",
        "outputId": "f09c3e8d-ec74-496c-b9fe-ca4c99404901"
      },
      "execution_count": 29,
      "outputs": [
        {
          "output_type": "execute_result",
          "data": {
            "text/plain": [
              "4843     about time i staed packing travelling amsterda...\n",
              "41515    trump ny cochair i want obama to die of mad co...\n",
              "12385    brent a nude makes for a very happy christmas ...\n",
              "36377    people arent protesting trump because a republ...\n",
              "38858                                       a deeper look \n",
              "                               ...                        \n",
              "5124     l o o k look instalook instafotoaldia instafot...\n",
              "2393     its officially been 1 month and 1 day without ...\n",
              "30846    obamajarretts who agenda was to destroy everyt...\n",
              "40702    intolerant postbrexit britain history shows we...\n",
              "16133     â wti drops to lows near 4830   blog silver g...\n",
              "Name: tweet, Length: 44467, dtype: object"
            ]
          },
          "metadata": {},
          "execution_count": 29
        }
      ]
    },
    {
      "cell_type": "code",
      "source": [
        "df_train['tweet'].iloc[:2].apply(preprocess_text).values"
      ],
      "metadata": {
        "id": "UFDyfZLpi8BR",
        "outputId": "6f1558ed-036b-4944-8b79-54c051f6a6f5",
        "execution": {
          "iopub.status.busy": "2022-07-12T16:33:11.776465Z",
          "iopub.execute_input": "2022-07-12T16:33:11.777092Z",
          "iopub.status.idle": "2022-07-12T16:33:13.601367Z",
          "shell.execute_reply.started": "2022-07-12T16:33:11.777055Z",
          "shell.execute_reply": "2022-07-12T16:33:13.599650Z"
        },
        "trusted": true,
        "colab": {
          "base_uri": "https://localhost:8080/"
        }
      },
      "execution_count": 30,
      "outputs": [
        {
          "output_type": "execute_result",
          "data": {
            "text/plain": [
              "array(['abot time staed packing travelling amsterdam twodays',\n",
              "       'trmp ny cochair want obama die mad cow disease michelle go back male trmp'],\n",
              "      dtype=object)"
            ]
          },
          "metadata": {},
          "execution_count": 30
        }
      ]
    },
    {
      "cell_type": "code",
      "source": [
        "from tqdm import tqdm \n",
        "tqdm.pandas()\n",
        "\n",
        "df_train['tweet'] = df_train['tweet'].progress_apply(preprocess_text)\n",
        "df_val['tweet'] = df_val['tweet'].progress_apply(preprocess_text)"
      ],
      "metadata": {
        "id": "iWrPbjNzi7pB",
        "outputId": "33bcaf9e-8f96-4f2a-810b-c65fd9d027e6",
        "execution": {
          "iopub.status.busy": "2022-07-12T16:33:13.602555Z",
          "iopub.execute_input": "2022-07-12T16:33:13.603006Z",
          "iopub.status.idle": "2022-07-12T16:33:18.658977Z",
          "shell.execute_reply.started": "2022-07-12T16:33:13.602967Z",
          "shell.execute_reply": "2022-07-12T16:33:18.658004Z"
        },
        "trusted": true,
        "colab": {
          "base_uri": "https://localhost:8080/"
        }
      },
      "execution_count": 31,
      "outputs": [
        {
          "output_type": "stream",
          "name": "stderr",
          "text": [
            "100%|██████████| 44467/44467 [00:03<00:00, 13034.91it/s]\n",
            "100%|██████████| 7991/7991 [00:00<00:00, 13044.99it/s]\n",
            "/usr/local/lib/python3.7/dist-packages/ipykernel_launcher.py:5: SettingWithCopyWarning: \n",
            "A value is trying to be set on a copy of a slice from a DataFrame.\n",
            "Try using .loc[row_indexer,col_indexer] = value instead\n",
            "\n",
            "See the caveats in the documentation: https://pandas.pydata.org/pandas-docs/stable/user_guide/indexing.html#returning-a-view-versus-a-copy\n",
            "  \"\"\"\n"
          ]
        }
      ]
    },
    {
      "cell_type": "code",
      "source": [
        "train_corpus = \" \".join(df_train[\"tweet\"])\n",
        "train_corpus = train_corpus.lower()"
      ],
      "metadata": {
        "id": "C4o9QgmWI3Pw",
        "execution": {
          "iopub.status.busy": "2022-07-12T16:33:18.660543Z",
          "iopub.execute_input": "2022-07-12T16:33:18.661176Z",
          "iopub.status.idle": "2022-07-12T16:33:18.688011Z",
          "shell.execute_reply.started": "2022-07-12T16:33:18.661136Z",
          "shell.execute_reply": "2022-07-12T16:33:18.687010Z"
        },
        "trusted": true
      },
      "execution_count": 32,
      "outputs": []
    },
    {
      "cell_type": "code",
      "source": [
        "import nltk\n",
        "from nltk.tokenize import word_tokenize\n",
        "nltk.download(\"punkt\")\n",
        "\n",
        "tokens = word_tokenize(train_corpus)\n",
        "tokens[:5]"
      ],
      "metadata": {
        "id": "Hed2ySbwJH6B",
        "outputId": "571da348-b7c9-4afe-eb3a-e7e21d108c47",
        "execution": {
          "iopub.status.busy": "2022-07-12T16:33:18.689777Z",
          "iopub.execute_input": "2022-07-12T16:33:18.690181Z",
          "iopub.status.idle": "2022-07-12T16:33:22.033834Z",
          "shell.execute_reply.started": "2022-07-12T16:33:18.690122Z",
          "shell.execute_reply": "2022-07-12T16:33:22.032649Z"
        },
        "trusted": true,
        "colab": {
          "base_uri": "https://localhost:8080/"
        }
      },
      "execution_count": 33,
      "outputs": [
        {
          "output_type": "stream",
          "name": "stderr",
          "text": [
            "[nltk_data] Downloading package punkt to /root/nltk_data...\n",
            "[nltk_data]   Unzipping tokenizers/punkt.zip.\n"
          ]
        },
        {
          "output_type": "execute_result",
          "data": {
            "text/plain": [
              "['abot', 'time', 'staed', 'packing', 'travelling']"
            ]
          },
          "metadata": {},
          "execution_count": 33
        }
      ]
    },
    {
      "cell_type": "markdown",
      "source": [
        "Отфильтруем данные\n",
        "\n",
        "и соберём в корпус N наиболее частых токенов"
      ],
      "metadata": {
        "id": "yJ8T0fwYJYJX"
      }
    },
    {
      "cell_type": "code",
      "source": [
        "tokens_filtered = [word for word in tokens if word.isalnum()]"
      ],
      "metadata": {
        "id": "EXOLVK1tJLT8",
        "execution": {
          "iopub.status.busy": "2022-07-12T16:33:22.035546Z",
          "iopub.execute_input": "2022-07-12T16:33:22.036001Z",
          "iopub.status.idle": "2022-07-12T16:33:22.082273Z",
          "shell.execute_reply.started": "2022-07-12T16:33:22.035962Z",
          "shell.execute_reply": "2022-07-12T16:33:22.081456Z"
        },
        "trusted": true
      },
      "execution_count": 34,
      "outputs": []
    },
    {
      "cell_type": "code",
      "source": [
        "from nltk.probability import FreqDist\n",
        "\n",
        "dist = FreqDist(tokens_filtered)\n",
        "tokens_filtered_top = [pair[0] for pair in dist.most_common(max_words-1)]  # вычитание 1 для padding\n",
        "len(tokens_filtered_top)"
      ],
      "metadata": {
        "id": "8qCQH5nIJoiB",
        "outputId": "8d742947-1aaa-4e12-be73-ce2976da3ff5",
        "execution": {
          "iopub.status.busy": "2022-07-12T16:33:22.088067Z",
          "iopub.execute_input": "2022-07-12T16:33:22.088329Z",
          "iopub.status.idle": "2022-07-12T16:33:22.384300Z",
          "shell.execute_reply.started": "2022-07-12T16:33:22.088305Z",
          "shell.execute_reply": "2022-07-12T16:33:22.383256Z"
        },
        "trusted": true,
        "colab": {
          "base_uri": "https://localhost:8080/"
        }
      },
      "execution_count": 35,
      "outputs": [
        {
          "output_type": "execute_result",
          "data": {
            "text/plain": [
              "2999"
            ]
          },
          "metadata": {},
          "execution_count": 35
        }
      ]
    },
    {
      "cell_type": "code",
      "source": [
        "tokens_filtered_top[:10]"
      ],
      "metadata": {
        "id": "bRQ-6wwjJrGo",
        "outputId": "ce80476f-f468-4382-f77c-632de12a5c36",
        "execution": {
          "iopub.status.busy": "2022-07-12T16:33:22.385948Z",
          "iopub.execute_input": "2022-07-12T16:33:22.386566Z",
          "iopub.status.idle": "2022-07-12T16:33:22.393303Z",
          "shell.execute_reply.started": "2022-07-12T16:33:22.386506Z",
          "shell.execute_reply": "2022-07-12T16:33:22.392341Z"
        },
        "trusted": true,
        "colab": {
          "base_uri": "https://localhost:8080/"
        }
      },
      "execution_count": 36,
      "outputs": [
        {
          "output_type": "execute_result",
          "data": {
            "text/plain": [
              "['ser', 'yo', 'amp', 'love', 'day', 'trmp', 'like', 'yor', 'bt', 'jst']"
            ]
          },
          "metadata": {},
          "execution_count": 36
        }
      ]
    },
    {
      "cell_type": "code",
      "source": [
        "vocabulary = {v: k for k, v in dict(enumerate(tokens_filtered_top, 1)).items()}\n",
        "# vocabulary[:10]"
      ],
      "metadata": {
        "id": "Tdk777qGJtz4",
        "execution": {
          "iopub.status.busy": "2022-07-12T16:33:22.394732Z",
          "iopub.execute_input": "2022-07-12T16:33:22.395414Z",
          "iopub.status.idle": "2022-07-12T16:33:22.402652Z",
          "shell.execute_reply.started": "2022-07-12T16:33:22.395376Z",
          "shell.execute_reply": "2022-07-12T16:33:22.401767Z"
        },
        "trusted": true
      },
      "execution_count": 37,
      "outputs": []
    },
    {
      "cell_type": "code",
      "source": [
        "def text_to_sequence(text, maxlen):\n",
        "    result = []\n",
        "    tokens = word_tokenize(text.lower())\n",
        "    tokens_filtered = [word for word in tokens if word.isalnum()]\n",
        "    for word in tokens_filtered:\n",
        "        if word in vocabulary:\n",
        "            result.append(vocabulary[word])\n",
        "\n",
        "    padding = [0] * (maxlen-len(result))\n",
        "    return result[-maxlen:] + padding"
      ],
      "metadata": {
        "id": "5OULZgvkJzpj",
        "execution": {
          "iopub.status.busy": "2022-07-12T16:33:22.403939Z",
          "iopub.execute_input": "2022-07-12T16:33:22.404423Z",
          "iopub.status.idle": "2022-07-12T16:33:22.412362Z",
          "shell.execute_reply.started": "2022-07-12T16:33:22.404327Z",
          "shell.execute_reply": "2022-07-12T16:33:22.411105Z"
        },
        "trusted": true
      },
      "execution_count": 38,
      "outputs": []
    },
    {
      "cell_type": "code",
      "source": [
        "%%time\n",
        "x_train = np.asarray([text_to_sequence(text, max_len) for text in df_train[\"tweet\"]])\n",
        "x_val = np.asarray([text_to_sequence(text, max_len) for text in df_val[\"tweet\"]])"
      ],
      "metadata": {
        "id": "pqHlf5nNJ2hl",
        "outputId": "048c7288-cc45-4200-8bb8-a5d83fb2a89e",
        "execution": {
          "iopub.status.busy": "2022-07-12T16:33:22.414507Z",
          "iopub.execute_input": "2022-07-12T16:33:22.414909Z",
          "iopub.status.idle": "2022-07-12T16:33:30.652538Z",
          "shell.execute_reply.started": "2022-07-12T16:33:22.414874Z",
          "shell.execute_reply": "2022-07-12T16:33:30.651580Z"
        },
        "trusted": true,
        "colab": {
          "base_uri": "https://localhost:8080/"
        }
      },
      "execution_count": 39,
      "outputs": [
        {
          "output_type": "stream",
          "name": "stdout",
          "text": [
            "CPU times: user 5.21 s, sys: 13.9 ms, total: 5.23 s\n",
            "Wall time: 5.22 s\n"
          ]
        }
      ]
    },
    {
      "cell_type": "code",
      "source": [
        "x_train.shape"
      ],
      "metadata": {
        "id": "lI4NUg_TJ6NK",
        "outputId": "99f84cac-f505-47ae-d9a1-30c8f3550e01",
        "execution": {
          "iopub.status.busy": "2022-07-12T16:33:30.654084Z",
          "iopub.execute_input": "2022-07-12T16:33:30.654450Z",
          "iopub.status.idle": "2022-07-12T16:33:30.661626Z",
          "shell.execute_reply.started": "2022-07-12T16:33:30.654413Z",
          "shell.execute_reply": "2022-07-12T16:33:30.660573Z"
        },
        "trusted": true,
        "colab": {
          "base_uri": "https://localhost:8080/"
        }
      },
      "execution_count": 40,
      "outputs": [
        {
          "output_type": "execute_result",
          "data": {
            "text/plain": [
              "(44467, 30)"
            ]
          },
          "metadata": {},
          "execution_count": 40
        }
      ]
    },
    {
      "cell_type": "code",
      "source": [
        "df_train['tweet'].iloc[1]"
      ],
      "metadata": {
        "id": "0I6B2MHb81pF",
        "outputId": "0d9e9f08-6d4a-428d-87f7-fe858475ac61",
        "execution": {
          "iopub.status.busy": "2022-07-12T16:33:30.663162Z",
          "iopub.execute_input": "2022-07-12T16:33:30.663527Z",
          "iopub.status.idle": "2022-07-12T16:33:30.676703Z",
          "shell.execute_reply.started": "2022-07-12T16:33:30.663478Z",
          "shell.execute_reply": "2022-07-12T16:33:30.675560Z"
        },
        "trusted": true,
        "colab": {
          "base_uri": "https://localhost:8080/",
          "height": 35
        }
      },
      "execution_count": 41,
      "outputs": [
        {
          "output_type": "execute_result",
          "data": {
            "text/plain": [
              "'trmp ny cochair want obama die mad cow disease michelle go back male trmp'"
            ],
            "application/vnd.google.colaboratory.intrinsic+json": {
              "type": "string"
            }
          },
          "metadata": {},
          "execution_count": 41
        }
      ]
    },
    {
      "cell_type": "code",
      "source": [
        "x_train[1]"
      ],
      "metadata": {
        "id": "9QlLvXd9KDf3",
        "outputId": "7cec4aab-3b8c-4075-c021-36d3bf468088",
        "execution": {
          "iopub.status.busy": "2022-07-12T16:33:30.678080Z",
          "iopub.execute_input": "2022-07-12T16:33:30.679810Z",
          "iopub.status.idle": "2022-07-12T16:33:30.687964Z",
          "shell.execute_reply.started": "2022-07-12T16:33:30.679721Z",
          "shell.execute_reply": "2022-07-12T16:33:30.686764Z"
        },
        "trusted": true,
        "colab": {
          "base_uri": "https://localhost:8080/"
        }
      },
      "execution_count": 42,
      "outputs": [
        {
          "output_type": "execute_result",
          "data": {
            "text/plain": [
              "array([  6, 614, 533,  42,  47, 703, 497, 413, 627, 486,  37,  67, 409,\n",
              "         6,   0,   0,   0,   0,   0,   0,   0,   0,   0,   0,   0,   0,\n",
              "         0,   0,   0,   0])"
            ]
          },
          "metadata": {},
          "execution_count": 42
        }
      ]
    },
    {
      "cell_type": "code",
      "source": [
        "import torch\n",
        "import torch.nn as nn\n",
        "import torch.nn.functional as F\n",
        "\n",
        "class Net(nn.Module):\n",
        "    def __init__(self, vocab_size=3000, embedding_dim=128, out_channel=128, num_classes=1):\n",
        "        super().__init__()\n",
        "        self.embedding = nn.Embedding(vocab_size, embedding_dim)\n",
        "        self.conv_1 = nn.Conv1d(embedding_dim, out_channel, kernel_size=2)\n",
        "        self.conv_3 = nn.Conv1d(embedding_dim, out_channel, kernel_size=2)\n",
        "        self.conv_2 = nn.Conv1d(embedding_dim, out_channel, kernel_size=3)\n",
        "        self.pool = nn.MaxPool1d(2)\n",
        "        self.relu = nn.ReLU()\n",
        "        self.dropout1 = nn.Dropout(0.2)\n",
        "        self.dropout2 = nn.Dropout(0.5)\n",
        "        self.linear_1 = nn.Linear(out_channel, out_channel // 2)\n",
        "        self.linear_3 = nn.Linear(out_channel // 2, out_channel // 4)\n",
        "        self.linear_2 = nn.Linear(out_channel // 4, num_classes)\n",
        "        \n",
        "    def forward(self, x):        \n",
        "        output = self.embedding(x) # B, L, E\n",
        "        #                       B  E  L         \n",
        "        output = output.permute(0, 2, 1)\n",
        "        output = self.conv_1(output)\n",
        "        output = self.relu(output)\n",
        "        output = self.pool(output)\n",
        "        output = self.dropout1(output)\n",
        "        \n",
        "        output = self.conv_3(output)\n",
        "        output = self.relu(output)\n",
        "        output = self.pool(output)\n",
        "        output = self.dropout1(output)\n",
        "\n",
        "        output = self.conv_2(output)\n",
        "        output = self.relu(output)\n",
        "        output = self.pool(output)\n",
        "        output = self.dropout1(output)\n",
        "        \n",
        "        output = torch.max(output, axis=2).values\n",
        "        \n",
        "        output = self.linear_1(output)\n",
        "        output = self.relu(output)\n",
        "        output = self.dropout2(output)\n",
        "        output = self.linear_3(output)\n",
        "        output = self.relu(output)\n",
        "        output = self.dropout2(output)\n",
        "        output = self.linear_2(output)\n",
        "        output = F.sigmoid(output)\n",
        "        return output"
      ],
      "metadata": {
        "id": "Ynw9XOZNK4Wp",
        "execution": {
          "iopub.status.busy": "2022-07-12T16:33:30.689677Z",
          "iopub.execute_input": "2022-07-12T16:33:30.689942Z",
          "iopub.status.idle": "2022-07-12T16:33:32.430542Z",
          "shell.execute_reply.started": "2022-07-12T16:33:30.689919Z",
          "shell.execute_reply": "2022-07-12T16:33:32.429621Z"
        },
        "trusted": true
      },
      "execution_count": 61,
      "outputs": []
    },
    {
      "cell_type": "code",
      "source": [
        "from torch.utils.data import DataLoader, Dataset\n",
        "\n",
        "\n",
        "class DataWrapper(Dataset):\n",
        "    def __init__(self, data, target, transform=None):\n",
        "        self.data = torch.from_numpy(data).long()\n",
        "        self.target = torch.from_numpy(target).long()\n",
        "        self.transform = transform\n",
        "        \n",
        "    def __getitem__(self, index):\n",
        "        x = self.data[index]\n",
        "        y = self.target[index]\n",
        "        \n",
        "        if self.transform:\n",
        "            x = self.transform(x)\n",
        "            \n",
        "        return x, y\n",
        "    \n",
        "    def __len__(self):\n",
        "        return len(self.data)"
      ],
      "metadata": {
        "id": "PhwK7yLAK8b0",
        "jupyter": {
          "source_hidden": true
        },
        "execution": {
          "iopub.status.busy": "2022-07-12T16:33:32.432164Z",
          "iopub.execute_input": "2022-07-12T16:33:32.432737Z",
          "iopub.status.idle": "2022-07-12T16:33:32.440566Z",
          "shell.execute_reply.started": "2022-07-12T16:33:32.432699Z",
          "shell.execute_reply": "2022-07-12T16:33:32.439086Z"
        },
        "trusted": true
      },
      "execution_count": 62,
      "outputs": []
    },
    {
      "cell_type": "code",
      "source": [
        "train_dataset = DataWrapper(x_train, df_train['label'].values)\n",
        "train_loader = DataLoader(train_dataset, batch_size=batch_size, shuffle=True)\n",
        "\n",
        "val_dataset = DataWrapper(x_val, df_val['label'].values)\n",
        "val_loader = DataLoader(val_dataset, batch_size=8, shuffle=True)"
      ],
      "metadata": {
        "id": "Qq0DK08tHKHf",
        "execution": {
          "iopub.status.busy": "2022-07-12T16:33:32.442164Z",
          "iopub.execute_input": "2022-07-12T16:33:32.442537Z",
          "iopub.status.idle": "2022-07-12T16:33:32.454209Z",
          "shell.execute_reply.started": "2022-07-12T16:33:32.442484Z",
          "shell.execute_reply": "2022-07-12T16:33:32.453197Z"
        },
        "trusted": true
      },
      "execution_count": 63,
      "outputs": []
    },
    {
      "cell_type": "code",
      "source": [
        "for x, l in train_loader:\n",
        "    print(x.shape)\n",
        "    print(l.shape)\n",
        "    print(l[0])\n",
        "    break"
      ],
      "metadata": {
        "id": "J6v8MCvfPqJN",
        "outputId": "fa6a31e4-d488-4d89-9fce-165890790abf",
        "execution": {
          "iopub.status.busy": "2022-07-12T16:33:32.455594Z",
          "iopub.execute_input": "2022-07-12T16:33:32.456336Z",
          "iopub.status.idle": "2022-07-12T16:33:32.477474Z",
          "shell.execute_reply.started": "2022-07-12T16:33:32.456297Z",
          "shell.execute_reply": "2022-07-12T16:33:32.476550Z"
        },
        "trusted": true,
        "colab": {
          "base_uri": "https://localhost:8080/"
        }
      },
      "execution_count": 64,
      "outputs": [
        {
          "output_type": "stream",
          "name": "stdout",
          "text": [
            "torch.Size([512, 30])\n",
            "torch.Size([512])\n",
            "tensor(0)\n"
          ]
        }
      ]
    },
    {
      "cell_type": "code",
      "source": [
        "model = Net(vocab_size=max_words)\n",
        "\n",
        "device = 'cuda' if torch.cuda.is_available() else 'cpu'\n",
        "device"
      ],
      "metadata": {
        "id": "F-3ExwIMG8BB",
        "outputId": "347cd3c1-e824-45f1-b95d-2e322291586a",
        "execution": {
          "iopub.status.busy": "2022-07-12T16:33:32.478773Z",
          "iopub.execute_input": "2022-07-12T16:33:32.479399Z",
          "iopub.status.idle": "2022-07-12T16:33:32.549251Z",
          "shell.execute_reply.started": "2022-07-12T16:33:32.479347Z",
          "shell.execute_reply": "2022-07-12T16:33:32.548413Z"
        },
        "trusted": true,
        "colab": {
          "base_uri": "https://localhost:8080/",
          "height": 35
        }
      },
      "execution_count": 65,
      "outputs": [
        {
          "output_type": "execute_result",
          "data": {
            "text/plain": [
              "'cuda'"
            ],
            "application/vnd.google.colaboratory.intrinsic+json": {
              "type": "string"
            }
          },
          "metadata": {},
          "execution_count": 65
        }
      ]
    },
    {
      "cell_type": "code",
      "source": [
        "print(model)\n",
        "print(\"Parameters:\", sum([param.nelement() for param in model.parameters()]))"
      ],
      "metadata": {
        "id": "ayB6rEFkHB1D",
        "outputId": "a77741b6-52c9-4efb-b206-9167c09a4145",
        "execution": {
          "iopub.status.busy": "2022-07-12T16:33:32.551227Z",
          "iopub.execute_input": "2022-07-12T16:33:32.552021Z",
          "iopub.status.idle": "2022-07-12T16:33:32.558663Z",
          "shell.execute_reply.started": "2022-07-12T16:33:32.551984Z",
          "shell.execute_reply": "2022-07-12T16:33:32.557600Z"
        },
        "trusted": true,
        "colab": {
          "base_uri": "https://localhost:8080/"
        }
      },
      "execution_count": 66,
      "outputs": [
        {
          "output_type": "stream",
          "name": "stdout",
          "text": [
            "Net(\n",
            "  (embedding): Embedding(3000, 128)\n",
            "  (conv_1): Conv1d(128, 128, kernel_size=(2,), stride=(1,))\n",
            "  (conv_3): Conv1d(128, 128, kernel_size=(2,), stride=(1,))\n",
            "  (conv_2): Conv1d(128, 128, kernel_size=(3,), stride=(1,))\n",
            "  (pool): MaxPool1d(kernel_size=2, stride=2, padding=0, dilation=1, ceil_mode=False)\n",
            "  (relu): ReLU()\n",
            "  (dropout1): Dropout(p=0.2, inplace=False)\n",
            "  (dropout2): Dropout(p=0.5, inplace=False)\n",
            "  (linear_1): Linear(in_features=128, out_features=64, bias=True)\n",
            "  (linear_3): Linear(in_features=64, out_features=32, bias=True)\n",
            "  (linear_2): Linear(in_features=32, out_features=1, bias=True)\n",
            ")\n",
            "Parameters: 509441\n"
          ]
        }
      ]
    },
    {
      "cell_type": "code",
      "source": [
        "optimizer = torch.optim.Adam(model.parameters(), lr=0.01)\n",
        "criterion = nn.BCELoss()"
      ],
      "metadata": {
        "id": "vOpjN8zrHIfJ",
        "execution": {
          "iopub.status.busy": "2022-07-12T16:33:32.560233Z",
          "iopub.execute_input": "2022-07-12T16:33:32.561019Z",
          "iopub.status.idle": "2022-07-12T16:33:32.567301Z",
          "shell.execute_reply.started": "2022-07-12T16:33:32.560981Z",
          "shell.execute_reply": "2022-07-12T16:33:32.566396Z"
        },
        "trusted": true
      },
      "execution_count": 67,
      "outputs": []
    },
    {
      "cell_type": "code",
      "source": [
        "model = model.to(device)\n",
        "model.train()\n",
        "th = 0.5\n",
        "\n",
        "train_loss_history = []\n",
        "test_loss_history = []\n",
        "\n",
        "\n",
        "for epoch in range(epochs):  \n",
        "    running_items, running_right = 0.0, 0.0\n",
        "    for i, data in enumerate(train_loader, 0):\n",
        "        inputs, labels = data[0].to(device), data[1].to(device)\n",
        "        \n",
        "        # обнуляем градиент\n",
        "        optimizer.zero_grad()\n",
        "        outputs = model(inputs)\n",
        "        \n",
        "        loss = criterion(outputs, labels.float().view(-1, 1))\n",
        "        loss.backward()\n",
        "        optimizer.step()\n",
        "\n",
        "        # подсчет ошибки на обучении\n",
        "        loss = loss.item()\n",
        "        running_items += len(labels)\n",
        "        # подсчет метрики на обучении\n",
        "        pred_labels = torch.squeeze((outputs > th).int())\n",
        "        running_right += (labels == pred_labels).sum()\n",
        "        \n",
        "    # выводим статистику о процессе обучения\n",
        "    model.eval()\n",
        "    \n",
        "    print(f'Epoch [{epoch + 1}/{epochs}]. ' \\\n",
        "            f'Step [{i + 1}/{len(train_loader)}]. ' \\\n",
        "            f'Loss: {loss:.3f}. ' \\\n",
        "            f'Acc: {running_right / running_items:.3f}', end='. ')\n",
        "    running_loss, running_items, running_right = 0.0, 0.0, 0.0\n",
        "    train_loss_history.append(loss)\n",
        "\n",
        "        # выводим статистику на тестовых данных\n",
        "    test_running_right, test_running_total, test_loss = 0.0, 0.0, 0.0\n",
        "    for j, data in enumerate(val_loader):\n",
        "        test_labels = data[1].to(device)\n",
        "        test_outputs = model(data[0].to(device))\n",
        "        \n",
        "        # подсчет ошибки на тесте\n",
        "        test_loss = criterion(test_outputs, test_labels.float().view(-1, 1))\n",
        "        # подсчет метрики на тесте\n",
        "        test_running_total += len(data[1])\n",
        "        pred_test_labels = torch.squeeze((test_outputs > th).int())\n",
        "        test_running_right += (test_labels == pred_test_labels).sum()\n",
        "    \n",
        "    test_loss_history.append(test_loss.item())\n",
        "    print(f'Test loss: {test_loss:.3f}. Test acc: {test_running_right / test_running_total:.3f}')\n",
        "    \n",
        "    model.train()\n",
        "        \n",
        "print('Training is finished!')"
      ],
      "metadata": {
        "id": "ee9kfUQaCXpl",
        "outputId": "05ce7a62-9559-42ad-f87e-d228c813a032",
        "execution": {
          "iopub.status.busy": "2022-07-12T16:33:32.570390Z",
          "iopub.execute_input": "2022-07-12T16:33:32.570710Z",
          "iopub.status.idle": "2022-07-12T16:34:02.495000Z",
          "shell.execute_reply.started": "2022-07-12T16:33:32.570677Z",
          "shell.execute_reply": "2022-07-12T16:34:02.494010Z"
        },
        "trusted": true,
        "colab": {
          "base_uri": "https://localhost:8080/"
        }
      },
      "execution_count": 68,
      "outputs": [
        {
          "output_type": "stream",
          "name": "stderr",
          "text": [
            "/usr/local/lib/python3.7/dist-packages/torch/nn/functional.py:1960: UserWarning: nn.functional.sigmoid is deprecated. Use torch.sigmoid instead.\n",
            "  warnings.warn(\"nn.functional.sigmoid is deprecated. Use torch.sigmoid instead.\")\n"
          ]
        },
        {
          "output_type": "stream",
          "name": "stdout",
          "text": [
            "Epoch [1/5]. Step [87/87]. Loss: 0.149. Acc: 0.824. Test loss: 0.159. Test acc: 0.938\n",
            "Epoch [2/5]. Step [87/87]. Loss: 0.117. Acc: 0.964. Test loss: 0.000. Test acc: 0.951\n",
            "Epoch [3/5]. Step [87/87]. Loss: 0.062. Acc: 0.977. Test loss: 0.000. Test acc: 0.950\n",
            "Epoch [4/5]. Step [87/87]. Loss: 0.059. Acc: 0.984. Test loss: 0.001. Test acc: 0.942\n",
            "Epoch [5/5]. Step [87/87]. Loss: 0.061. Acc: 0.986. Test loss: 0.000. Test acc: 0.951\n",
            "Training is finished!\n"
          ]
        }
      ]
    },
    {
      "cell_type": "code",
      "source": [
        "import matplotlib.pyplot as plt\n",
        "\n",
        "plt.title('Loss history')\n",
        "plt.grid(True)\n",
        "plt.ylabel('Loss')\n",
        "plt.xlabel('Epoch')\n",
        "plt.plot(train_loss_history, label='train')\n",
        "plt.plot(test_loss_history, label='test')\n",
        "plt.legend();"
      ],
      "metadata": {
        "id": "jRFEu1X4jpLU",
        "outputId": "c4228b64-20ca-42cb-aa96-dc1048d51867",
        "execution": {
          "iopub.status.busy": "2022-07-12T16:34:02.496568Z",
          "iopub.execute_input": "2022-07-12T16:34:02.496937Z",
          "iopub.status.idle": "2022-07-12T16:34:02.707358Z",
          "shell.execute_reply.started": "2022-07-12T16:34:02.496900Z",
          "shell.execute_reply": "2022-07-12T16:34:02.706454Z"
        },
        "trusted": true,
        "colab": {
          "base_uri": "https://localhost:8080/",
          "height": 295
        }
      },
      "execution_count": 69,
      "outputs": [
        {
          "output_type": "display_data",
          "data": {
            "text/plain": [
              "<Figure size 432x288 with 1 Axes>"
            ],
            "image/png": "[encoded data removed]"
          },
          "metadata": {
            "needs_background": "light"
          }
        }
      ]
    },
    {
      "cell_type": "markdown",
      "source": [
        "**Точность модели сильно улучшить не получилось, но удалось снизить потери на трейне и тесте, а также снизить переобучение при добавлении в модель следующего:**\n",
        "\n",
        "**- добавление одного сверточного и одного плотного слоя,**\n",
        "\n",
        "**- обнуление случайных элементов,**\n",
        "\n",
        "**- предварительная очистка данных,**\n",
        "\n",
        "**- балансировка классов.**"
      ],
      "metadata": {
        "id": "y9enKOM7lKR_"
      }
    },
    {
      "cell_type": "code",
      "source": [
        ""
      ],
      "metadata": {
        "id": "BTel5XvulKR_"
      },
      "execution_count": 69,
      "outputs": []
    },
    {
      "cell_type": "code",
      "source": [
        ""
      ],
      "metadata": {
        "id": "a1dHYJhspU0V"
      },
      "execution_count": null,
      "outputs": []
    },
    {
      "cell_type": "code",
      "source": [
        ""
      ],
      "metadata": {
        "id": "GHZBcD1vpU6K"
      },
      "execution_count": null,
      "outputs": []
    },
    {
      "cell_type": "code",
      "source": [
        ""
      ],
      "metadata": {
        "id": "8zZFTFtClKR_"
      },
      "execution_count": 69,
      "outputs": []
    },
    {
      "cell_type": "markdown",
      "source": [
        "## Домашнее задание\n",
        "1. Попробуйте обучить нейронную сеть с применением одномерных сверток для предсказания сентимента сообщений с твитера на примере https://www.kaggle.com/datasets/arkhoshghalb/twitter-sentiment-analysis-hatred-speech\n",
        "\n",
        "2. Опишите, какой результат вы получили? Что помогло вам улучшить ее точность?\n",
        "\n",
        "У кого нет возможности работать через каггл (нет верификации), то можете данные взять по ссылке: https://drive.google.com/file/d/1S0hslcWDrwxA5GH4U32mfg85lAVLqkq5/view?usp=sharing"
      ],
      "metadata": {
        "id": "bzjJy15I3r9U"
      }
    },
    {
      "cell_type": "code",
      "source": [
        ""
      ],
      "metadata": {
        "id": "T6bOVv4hlKSA"
      },
      "execution_count": 69,
      "outputs": []
    }
  ]
}