{
  "cells": [
    {
      "cell_type": "markdown",
      "metadata": {
        "id": "u_kzPwFAXRjE"
      },
      "source": [
        "# Feed-forward сети\n",
        "\n",
        "Итак, давайте потренируемся тренировать нейронные сети прямого распространения (так как делали на паре)\n",
        "При этом попробуем создать свою функцию активации на одном из слоев"
      ]
    },
    {
      "cell_type": "code",
      "execution_count": 2,
      "metadata": {
        "id": "qKD5SXyrXRjT"
      },
      "outputs": [],
      "source": [
        "# Сделаем необходимые импорты\n",
        "import torch\n",
        "import torch.nn.functional as F\n",
        "from torch import optim\n",
        "from torch import nn\n",
        "\n",
        "import torchvision.transforms as transforms\n",
        "import torchvision\n",
        "\n",
        "import matplotlib.pyplot as plt\n",
        "import numpy as np"
      ]
    },
    {
      "cell_type": "code",
      "execution_count": 3,
      "metadata": {
        "colab": {
          "base_uri": "https://localhost:8080/",
          "height": 84,
          "referenced_widgets": [
            "2b6a99fb988e441ab7658c5db9d481f4",
            "109b2be36a604785b96510f2d208ea90",
            "82c41adc518e4bc293d7bca7d8b27188",
            "441cd1ec8c724b54950fcbe896df3df1",
            "e12a1e0badc24e84a27aed289c471d7d",
            "97294d26d44f4761a843997aba104c42",
            "69e500cfdc064575862754cc8e3e0b24",
            "c4141d1e2667479e84a16854c5bd67b2",
            "9700e8aded6c41d7a891ca1635e86fed",
            "1a9f25c1739f4b7c83cf00746da970ad",
            "a8f91dc769d346c89e826db0184ec788"
          ]
        },
        "id": "uiENiOpAXRjT",
        "outputId": "fb24e4c8-b89f-43de-a18e-1f3698c9076d"
      },
      "outputs": [
        {
          "output_type": "stream",
          "name": "stdout",
          "text": [
            "Downloading https://www.cs.toronto.edu/~kriz/cifar-100-python.tar.gz to data/cifar-100-python.tar.gz\n"
          ]
        },
        {
          "output_type": "display_data",
          "data": {
            "text/plain": [
              "  0%|          | 0/169001437 [00:00<?, ?it/s]"
            ],
            "application/vnd.jupyter.widget-view+json": {
              "version_major": 2,
              "version_minor": 0,
              "model_id": "2b6a99fb988e441ab7658c5db9d481f4"
            }
          },
          "metadata": {}
        },
        {
          "output_type": "stream",
          "name": "stdout",
          "text": [
            "Extracting data/cifar-100-python.tar.gz to data/\n"
          ]
        }
      ],
      "source": [
        "# Загрузим датасет CIFAR-100, сразу же создадим dataloader для него\n",
        "# Если вам не хватает вычислительных ресурсов, то можно вернуться к CIFAR-10\n",
        "train_dataset = torchvision.datasets.CIFAR100(root='data/',\n",
        "                                             train=True,  \n",
        "                                             transform=transforms.ToTensor(), \n",
        "                                             download=True)"
      ]
    },
    {
      "cell_type": "code",
      "execution_count": 4,
      "metadata": {
        "colab": {
          "base_uri": "https://localhost:8080/"
        },
        "id": "QhUO0KToZGdZ",
        "outputId": "6601a282-aba8-4665-bdda-ced40120c8dd"
      },
      "outputs": [
        {
          "output_type": "stream",
          "name": "stdout",
          "text": [
            "torch.Size([3, 32, 32])\n",
            "19\n"
          ]
        }
      ],
      "source": [
        "image, label = train_dataset[0]\n",
        "print(image.size())\n",
        "print(label)"
      ]
    },
    {
      "cell_type": "code",
      "execution_count": 5,
      "metadata": {
        "colab": {
          "base_uri": "https://localhost:8080/",
          "height": 266
        },
        "id": "6IuXFN9cZGt4",
        "outputId": "536e6d1a-3f0b-425a-a509-b835650388d3"
      },
      "outputs": [
        {
          "output_type": "display_data",
          "data": {
            "text/plain": [
              "<Figure size 432x288 with 1 Axes>"
            ],
            "image/png": "[encoded data removed]"
          },
          "metadata": {
            "needs_background": "light"
          }
        }
      ],
      "source": [
        "plt.imshow(image.permute(1, 2, 0).numpy());"
      ]
    },
    {
      "cell_type": "code",
      "execution_count": 6,
      "metadata": {
        "id": "JezMfSi6ZG00"
      },
      "outputs": [],
      "source": [
        "train_loader = torch.utils.data.DataLoader(dataset=train_dataset,\n",
        "                                           batch_size=64, \n",
        "                                           shuffle=True)"
      ]
    },
    {
      "cell_type": "code",
      "execution_count": 7,
      "metadata": {
        "colab": {
          "base_uri": "https://localhost:8080/"
        },
        "id": "3JmKLNI4ZG4D",
        "outputId": "abf59df8-5283-42d3-e706-fe38e3f3463a"
      },
      "outputs": [
        {
          "output_type": "stream",
          "name": "stdout",
          "text": [
            "Files already downloaded and verified\n"
          ]
        }
      ],
      "source": [
        "test_dataset = torchvision.datasets.CIFAR100(root='./data', train=False,\n",
        "                                            download=True, transform=transforms.ToTensor())\n",
        "test_loader = torch.utils.data.DataLoader(test_dataset, batch_size=8,\n",
        "                                          shuffle=False)"
      ]
    },
    {
      "cell_type": "code",
      "source": [
        "classes = ('beaver', 'dolphin', 'otter', 'seal', 'whale', 'aquarium fish', 'flatfish', 'ray', 'shark', 'trout', 'orchids', 'poppies', 'roses', \n",
        "           'sunflowers', 'tulips', 'bottles', 'bowls', 'cans', 'cups', 'plates', 'apples', 'mushrooms', 'oranges', 'pears', 'sweet peppers', \t\n",
        "           'clock', 'computer keyboard', 'lamp', 'telephone', 'television', 'bed', 'chair', 'couch', 'table', 'wardrobe', 'bee', 'beetle', \n",
        "           'butterfly', 'caterpillar', 'cockroach', 'bear', 'leopard', 'lion', 'tiger', 'wolf', 'bridge', 'castle', 'house', 'road', 'skyscraper',\t\n",
        "           'cloud', 'forest', 'mountain', 'plain', 'sea', 'camel', 'cattle', 'chimpanzee', 'elephant', 'kangaroo', 'fox', 'porcupine', 'possum', \n",
        "           'raccoon', 'skunk', 'crab', 'lobster', 'snail', 'spider', 'worm', 'baby', 'boy', 'girl', 'man', 'woman', 'crocodile', 'dinosaur', 'lizard', \n",
        "           'snake', 'turtle', 'hamster', 'mouse', 'rabbit', 'shrew', 'squirrel', 'maple', 'oak', 'palm', 'pine', 'willow', 'bicycle', 'bus', \n",
        "           'motorcycle', 'pickup truck', 'train', 'lawn-mower', 'rocket', 'streetcar', 'tank', 'tractor')"
      ],
      "metadata": {
        "id": "3HpI2MKgoTVm"
      },
      "execution_count": 8,
      "outputs": []
    },
    {
      "cell_type": "code",
      "source": [
        "len(classes)"
      ],
      "metadata": {
        "colab": {
          "base_uri": "https://localhost:8080/"
        },
        "id": "JN1QtP-TqwGR",
        "outputId": "cbd3a713-36d3-4704-bb68-6afed421cb13"
      },
      "execution_count": 9,
      "outputs": [
        {
          "output_type": "execute_result",
          "data": {
            "text/plain": [
              "100"
            ]
          },
          "metadata": {},
          "execution_count": 9
        }
      ]
    },
    {
      "cell_type": "code",
      "execution_count": 10,
      "metadata": {
        "id": "_9CeK9ugXRjT"
      },
      "outputs": [],
      "source": [
        "# Создайте собственную архитектуру! Можете использовать все, что угодно, но в ограничении на использование линейные слои (пока без сверток)\n",
        "# Давайте добавим ограниченный Leaky_relu, то есть output = max(0.1x, 0.5x)\n",
        "# Ваша задача добавить его в архитектуру сети как функцию активации"
      ]
    },
    {
      "cell_type": "code",
      "execution_count": 15,
      "metadata": {
        "colab": {
          "base_uri": "https://localhost:8080/"
        },
        "id": "ToA9Qx6zZuHH",
        "outputId": "6a6827fa-fb6f-408a-ed02-5a91dfc63348"
      },
      "outputs": [
        {
          "output_type": "execute_result",
          "data": {
            "text/plain": [
              "Net(\n",
              "  (fc1): Linear(in_features=3072, out_features=800, bias=True)\n",
              "  (fc2): Linear(in_features=800, out_features=400, bias=True)\n",
              "  (fc3): Linear(in_features=400, out_features=200, bias=True)\n",
              "  (fc4): Linear(in_features=200, out_features=100, bias=True)\n",
              "  (fc5): Linear(in_features=100, out_features=100, bias=True)\n",
              ")"
            ]
          },
          "metadata": {},
          "execution_count": 15
        }
      ],
      "source": [
        "class Net(nn.Module):\n",
        "    def __init__(self, input_dim, hidden_dim, output_dim):\n",
        "        super().__init__()\n",
        "        self.fc1 = nn.Linear(input_dim, 8 * hidden_dim)\n",
        "        self.fc2 = nn.Linear(8 * hidden_dim, 4 * hidden_dim)\n",
        "        self.fc3 = nn.Linear(4 * hidden_dim, 2 * hidden_dim)\n",
        "        self.fc4 = nn.Linear(2 * hidden_dim, hidden_dim)\n",
        "        self.fc5 = nn.Linear(hidden_dim, output_dim)\n",
        "\n",
        "    def forward(self, x):\n",
        "        x = x.view(x.shape[0], -1)\n",
        "        x = self.fc1(x)\n",
        "        x = F.leaky_relu(x)\n",
        "        x = self.fc2(x)\n",
        "        x = F.leaky_relu(x)\n",
        "        x = self.fc3(x)\n",
        "        x = F.leaky_relu(x)\n",
        "        x = self.fc4(x)\n",
        "        x = F.leaky_relu(x)\n",
        "        x = self.fc5(x)\n",
        "        return x\n",
        "    \n",
        "    def predict(self, x):\n",
        "        x = x.view(x.shape[0], -1)\n",
        "        x = self.fc1(x)\n",
        "        x = F.leaky_relu(x)\n",
        "        x = self.fc2(x)\n",
        "        x = F.leaky_relu(x)\n",
        "        x = self.fc3(x)\n",
        "        x = F.leaky_relu(x)\n",
        "        x = self.fc4(x)\n",
        "        x = F.leaky_relu(x)\n",
        "        x = self.fc5(x)\n",
        "        x = F.softmax(x)\n",
        "        return x\n",
        "\n",
        "\n",
        "net = Net(3072, 100, 100)\n",
        "net.train()"
      ]
    },
    {
      "cell_type": "code",
      "execution_count": 16,
      "metadata": {
        "id": "uNrmLMF0Zua4"
      },
      "outputs": [],
      "source": [
        "criterion = nn.CrossEntropyLoss()\n",
        "optimizer = optim.Adam(net.parameters(), lr=0.001)"
      ]
    },
    {
      "cell_type": "code",
      "execution_count": 17,
      "metadata": {
        "id": "lkbTwYlrZufY"
      },
      "outputs": [],
      "source": [
        "num_epochs = 50"
      ]
    },
    {
      "cell_type": "code",
      "execution_count": 18,
      "metadata": {
        "colab": {
          "base_uri": "https://localhost:8080/"
        },
        "id": "3CpOzoL-Zujz",
        "outputId": "d0f3d6a0-78a7-40bb-af8b-80a5e0c7254b"
      },
      "outputs": [
        {
          "output_type": "stream",
          "name": "stdout",
          "text": [
            "Epoch [1/50]. Step [1/782]. Loss: 0.072\n",
            "Epoch [1/50]. Step [301/782]. Loss: 0.067\n",
            "Epoch [1/50]. Step [601/782]. Loss: 0.063\n",
            "Epoch [2/50]. Step [1/782]. Loss: 0.064\n",
            "Epoch [2/50]. Step [301/782]. Loss: 0.061\n",
            "Epoch [2/50]. Step [601/782]. Loss: 0.060\n",
            "Epoch [3/50]. Step [1/782]. Loss: 0.057\n",
            "Epoch [3/50]. Step [301/782]. Loss: 0.057\n",
            "Epoch [3/50]. Step [601/782]. Loss: 0.057\n",
            "Epoch [4/50]. Step [1/782]. Loss: 0.063\n",
            "Epoch [4/50]. Step [301/782]. Loss: 0.055\n",
            "Epoch [4/50]. Step [601/782]. Loss: 0.055\n",
            "Epoch [5/50]. Step [1/782]. Loss: 0.049\n",
            "Epoch [5/50]. Step [301/782]. Loss: 0.054\n",
            "Epoch [5/50]. Step [601/782]. Loss: 0.054\n",
            "Epoch [6/50]. Step [1/782]. Loss: 0.051\n",
            "Epoch [6/50]. Step [301/782]. Loss: 0.052\n",
            "Epoch [6/50]. Step [601/782]. Loss: 0.052\n",
            "Epoch [7/50]. Step [1/782]. Loss: 0.053\n",
            "Epoch [7/50]. Step [301/782]. Loss: 0.051\n",
            "Epoch [7/50]. Step [601/782]. Loss: 0.051\n",
            "Epoch [8/50]. Step [1/782]. Loss: 0.048\n",
            "Epoch [8/50]. Step [301/782]. Loss: 0.050\n",
            "Epoch [8/50]. Step [601/782]. Loss: 0.050\n",
            "Epoch [9/50]. Step [1/782]. Loss: 0.052\n",
            "Epoch [9/50]. Step [301/782]. Loss: 0.049\n",
            "Epoch [9/50]. Step [601/782]. Loss: 0.050\n",
            "Epoch [10/50]. Step [1/782]. Loss: 0.049\n",
            "Epoch [10/50]. Step [301/782]. Loss: 0.048\n",
            "Epoch [10/50]. Step [601/782]. Loss: 0.049\n",
            "Epoch [11/50]. Step [1/782]. Loss: 0.048\n",
            "Epoch [11/50]. Step [301/782]. Loss: 0.048\n",
            "Epoch [11/50]. Step [601/782]. Loss: 0.048\n",
            "Epoch [12/50]. Step [1/782]. Loss: 0.042\n",
            "Epoch [12/50]. Step [301/782]. Loss: 0.047\n",
            "Epoch [12/50]. Step [601/782]. Loss: 0.047\n",
            "Epoch [13/50]. Step [1/782]. Loss: 0.048\n",
            "Epoch [13/50]. Step [301/782]. Loss: 0.046\n",
            "Epoch [13/50]. Step [601/782]. Loss: 0.047\n",
            "Epoch [14/50]. Step [1/782]. Loss: 0.045\n",
            "Epoch [14/50]. Step [301/782]. Loss: 0.045\n",
            "Epoch [14/50]. Step [601/782]. Loss: 0.046\n",
            "Epoch [15/50]. Step [1/782]. Loss: 0.043\n",
            "Epoch [15/50]. Step [301/782]. Loss: 0.045\n",
            "Epoch [15/50]. Step [601/782]. Loss: 0.045\n",
            "Epoch [16/50]. Step [1/782]. Loss: 0.051\n",
            "Epoch [16/50]. Step [301/782]. Loss: 0.044\n",
            "Epoch [16/50]. Step [601/782]. Loss: 0.045\n",
            "Epoch [17/50]. Step [1/782]. Loss: 0.044\n",
            "Epoch [17/50]. Step [301/782]. Loss: 0.043\n",
            "Epoch [17/50]. Step [601/782]. Loss: 0.044\n",
            "Epoch [18/50]. Step [1/782]. Loss: 0.047\n",
            "Epoch [18/50]. Step [301/782]. Loss: 0.043\n",
            "Epoch [18/50]. Step [601/782]. Loss: 0.044\n",
            "Epoch [19/50]. Step [1/782]. Loss: 0.042\n",
            "Epoch [19/50]. Step [301/782]. Loss: 0.042\n",
            "Epoch [19/50]. Step [601/782]. Loss: 0.043\n",
            "Epoch [20/50]. Step [1/782]. Loss: 0.042\n",
            "Epoch [20/50]. Step [301/782]. Loss: 0.041\n",
            "Epoch [20/50]. Step [601/782]. Loss: 0.042\n",
            "Epoch [21/50]. Step [1/782]. Loss: 0.040\n",
            "Epoch [21/50]. Step [301/782]. Loss: 0.041\n",
            "Epoch [21/50]. Step [601/782]. Loss: 0.042\n",
            "Epoch [22/50]. Step [1/782]. Loss: 0.039\n",
            "Epoch [22/50]. Step [301/782]. Loss: 0.040\n",
            "Epoch [22/50]. Step [601/782]. Loss: 0.041\n",
            "Epoch [23/50]. Step [1/782]. Loss: 0.034\n",
            "Epoch [23/50]. Step [301/782]. Loss: 0.040\n",
            "Epoch [23/50]. Step [601/782]. Loss: 0.041\n",
            "Epoch [24/50]. Step [1/782]. Loss: 0.043\n",
            "Epoch [24/50]. Step [301/782]. Loss: 0.039\n",
            "Epoch [24/50]. Step [601/782]. Loss: 0.040\n",
            "Epoch [25/50]. Step [1/782]. Loss: 0.037\n",
            "Epoch [25/50]. Step [301/782]. Loss: 0.038\n",
            "Epoch [25/50]. Step [601/782]. Loss: 0.040\n",
            "Epoch [26/50]. Step [1/782]. Loss: 0.037\n",
            "Epoch [26/50]. Step [301/782]. Loss: 0.038\n",
            "Epoch [26/50]. Step [601/782]. Loss: 0.039\n",
            "Epoch [27/50]. Step [1/782]. Loss: 0.031\n",
            "Epoch [27/50]. Step [301/782]. Loss: 0.038\n",
            "Epoch [27/50]. Step [601/782]. Loss: 0.039\n",
            "Epoch [28/50]. Step [1/782]. Loss: 0.036\n",
            "Epoch [28/50]. Step [301/782]. Loss: 0.037\n",
            "Epoch [28/50]. Step [601/782]. Loss: 0.038\n",
            "Epoch [29/50]. Step [1/782]. Loss: 0.035\n",
            "Epoch [29/50]. Step [301/782]. Loss: 0.036\n",
            "Epoch [29/50]. Step [601/782]. Loss: 0.037\n",
            "Epoch [30/50]. Step [1/782]. Loss: 0.034\n",
            "Epoch [30/50]. Step [301/782]. Loss: 0.036\n",
            "Epoch [30/50]. Step [601/782]. Loss: 0.037\n",
            "Epoch [31/50]. Step [1/782]. Loss: 0.034\n",
            "Epoch [31/50]. Step [301/782]. Loss: 0.036\n",
            "Epoch [31/50]. Step [601/782]. Loss: 0.037\n",
            "Epoch [32/50]. Step [1/782]. Loss: 0.031\n",
            "Epoch [32/50]. Step [301/782]. Loss: 0.035\n",
            "Epoch [32/50]. Step [601/782]. Loss: 0.036\n",
            "Epoch [33/50]. Step [1/782]. Loss: 0.030\n",
            "Epoch [33/50]. Step [301/782]. Loss: 0.034\n",
            "Epoch [33/50]. Step [601/782]. Loss: 0.036\n",
            "Epoch [34/50]. Step [1/782]. Loss: 0.033\n",
            "Epoch [34/50]. Step [301/782]. Loss: 0.034\n",
            "Epoch [34/50]. Step [601/782]. Loss: 0.035\n",
            "Epoch [35/50]. Step [1/782]. Loss: 0.029\n",
            "Epoch [35/50]. Step [301/782]. Loss: 0.033\n",
            "Epoch [35/50]. Step [601/782]. Loss: 0.035\n",
            "Epoch [36/50]. Step [1/782]. Loss: 0.031\n",
            "Epoch [36/50]. Step [301/782]. Loss: 0.033\n",
            "Epoch [36/50]. Step [601/782]. Loss: 0.034\n",
            "Epoch [37/50]. Step [1/782]. Loss: 0.033\n",
            "Epoch [37/50]. Step [301/782]. Loss: 0.032\n",
            "Epoch [37/50]. Step [601/782]. Loss: 0.034\n",
            "Epoch [38/50]. Step [1/782]. Loss: 0.032\n",
            "Epoch [38/50]. Step [301/782]. Loss: 0.032\n",
            "Epoch [38/50]. Step [601/782]. Loss: 0.033\n",
            "Epoch [39/50]. Step [1/782]. Loss: 0.035\n",
            "Epoch [39/50]. Step [301/782]. Loss: 0.032\n",
            "Epoch [39/50]. Step [601/782]. Loss: 0.033\n",
            "Epoch [40/50]. Step [1/782]. Loss: 0.025\n",
            "Epoch [40/50]. Step [301/782]. Loss: 0.031\n",
            "Epoch [40/50]. Step [601/782]. Loss: 0.033\n",
            "Epoch [41/50]. Step [1/782]. Loss: 0.032\n",
            "Epoch [41/50]. Step [301/782]. Loss: 0.031\n",
            "Epoch [41/50]. Step [601/782]. Loss: 0.032\n",
            "Epoch [42/50]. Step [1/782]. Loss: 0.032\n",
            "Epoch [42/50]. Step [301/782]. Loss: 0.031\n",
            "Epoch [42/50]. Step [601/782]. Loss: 0.032\n",
            "Epoch [43/50]. Step [1/782]. Loss: 0.025\n",
            "Epoch [43/50]. Step [301/782]. Loss: 0.030\n",
            "Epoch [43/50]. Step [601/782]. Loss: 0.031\n",
            "Epoch [44/50]. Step [1/782]. Loss: 0.028\n",
            "Epoch [44/50]. Step [301/782]. Loss: 0.030\n",
            "Epoch [44/50]. Step [601/782]. Loss: 0.032\n",
            "Epoch [45/50]. Step [1/782]. Loss: 0.030\n",
            "Epoch [45/50]. Step [301/782]. Loss: 0.029\n",
            "Epoch [45/50]. Step [601/782]. Loss: 0.031\n",
            "Epoch [46/50]. Step [1/782]. Loss: 0.028\n",
            "Epoch [46/50]. Step [301/782]. Loss: 0.030\n",
            "Epoch [46/50]. Step [601/782]. Loss: 0.031\n",
            "Epoch [47/50]. Step [1/782]. Loss: 0.032\n",
            "Epoch [47/50]. Step [301/782]. Loss: 0.029\n",
            "Epoch [47/50]. Step [601/782]. Loss: 0.031\n",
            "Epoch [48/50]. Step [1/782]. Loss: 0.026\n",
            "Epoch [48/50]. Step [301/782]. Loss: 0.028\n",
            "Epoch [48/50]. Step [601/782]. Loss: 0.030\n",
            "Epoch [49/50]. Step [1/782]. Loss: 0.026\n",
            "Epoch [49/50]. Step [301/782]. Loss: 0.028\n",
            "Epoch [49/50]. Step [601/782]. Loss: 0.030\n",
            "Epoch [50/50]. Step [1/782]. Loss: 0.026\n",
            "Epoch [50/50]. Step [301/782]. Loss: 0.028\n",
            "Epoch [50/50]. Step [601/782]. Loss: 0.029\n",
            "Training is finished!\n"
          ]
        }
      ],
      "source": [
        "for epoch in range(num_epochs):\n",
        "    running_loss = 0.0\n",
        "    running_items = 0.0\n",
        "\n",
        "\n",
        "    for i, data in enumerate(train_loader):\n",
        "        inputs, labels = data[0], data[1]\n",
        "\n",
        "         # Обнуляем градиент\n",
        "        optimizer.zero_grad()\n",
        "        # Делаем предсказание\n",
        "        outputs = net(inputs)\n",
        "        # Рассчитываем лосс-функцию\n",
        "        loss = criterion(outputs, labels)\n",
        "        # Делаем шаг назад по лоссу\n",
        "        loss.backward()\n",
        "        # Делаем шаг нашего оптимайзера\n",
        "        optimizer.step()\n",
        "\n",
        "        # выводим статистику о процессе обучения\n",
        "        running_loss += loss.item()\n",
        "        running_items += len(labels)\n",
        "        if i % 300 == 0:    # печатаем каждые 300 mini-batches\n",
        "            print(f'Epoch [{epoch + 1}/{num_epochs}]. ' \\\n",
        "                  f'Step [{i + 1}/{len(train_loader)}]. ' \\\n",
        "                  f'Loss: {running_loss / running_items:.3f}')\n",
        "            running_loss, running_items = 0.0, 0.0\n",
        "\n",
        "print('Training is finished!')"
      ]
    },
    {
      "cell_type": "code",
      "execution_count": 19,
      "metadata": {
        "id": "KP4HeI3tZunX"
      },
      "outputs": [],
      "source": [
        "PATH_WEIGHTS = './cifar_net_test_version_weights.pth'\n",
        "torch.save(net.state_dict(), PATH_WEIGHTS)"
      ]
    },
    {
      "cell_type": "code",
      "execution_count": 20,
      "metadata": {
        "id": "3BM8LImkZurO"
      },
      "outputs": [],
      "source": [
        "PATH_MODEL = './cifar_net_test_version_model.pth'\n",
        "torch.save(net, PATH_MODEL)"
      ]
    },
    {
      "cell_type": "code",
      "execution_count": 20,
      "metadata": {
        "id": "4-smPsBlZuw7"
      },
      "outputs": [],
      "source": [
        ""
      ]
    },
    {
      "cell_type": "code",
      "execution_count": 21,
      "metadata": {
        "id": "9hwojsDsXRjT"
      },
      "outputs": [],
      "source": [
        "# Запустить обучение (по аналогии с тем, что делали на паре)"
      ]
    },
    {
      "cell_type": "code",
      "execution_count": 22,
      "metadata": {
        "id": "0w8bXv57bDUy",
        "colab": {
          "base_uri": "https://localhost:8080/"
        },
        "outputId": "f3d8626f-de9f-492e-a343-98a0ed9adc92"
      },
      "outputs": [
        {
          "output_type": "execute_result",
          "data": {
            "text/plain": [
              "Net(\n",
              "  (fc1): Linear(in_features=3072, out_features=800, bias=True)\n",
              "  (fc2): Linear(in_features=800, out_features=400, bias=True)\n",
              "  (fc3): Linear(in_features=400, out_features=200, bias=True)\n",
              "  (fc4): Linear(in_features=200, out_features=100, bias=True)\n",
              "  (fc5): Linear(in_features=100, out_features=100, bias=True)\n",
              ")"
            ]
          },
          "metadata": {},
          "execution_count": 22
        }
      ],
      "source": [
        "net = Net(3072, 100, 100)\n",
        "net.load_state_dict(torch.load(PATH_WEIGHTS))\n",
        "net"
      ]
    },
    {
      "cell_type": "code",
      "execution_count": 23,
      "metadata": {
        "id": "Vh7esfWWbDZQ"
      },
      "outputs": [],
      "source": [
        "net = torch.load(PATH_MODEL)"
      ]
    },
    {
      "cell_type": "code",
      "execution_count": 24,
      "metadata": {
        "id": "KYSw9wxHbre_"
      },
      "outputs": [],
      "source": [
        "data_iter = iter(test_loader)\n",
        "images, labels = data_iter.next()"
      ]
    },
    {
      "cell_type": "code",
      "execution_count": 25,
      "metadata": {
        "id": "ZDE6ZuWvbDdg",
        "colab": {
          "base_uri": "https://localhost:8080/",
          "height": 141
        },
        "outputId": "1ec5404b-d9bd-4278-e3ec-9ad91646425e"
      },
      "outputs": [
        {
          "output_type": "stream",
          "name": "stdout",
          "text": [
            "GroundTruth:  skyscraper table girl forest boy motorcycle bottles tulips\n"
          ]
        },
        {
          "output_type": "display_data",
          "data": {
            "text/plain": [
              "<Figure size 720x360 with 1 Axes>"
            ],
            "image/png": "[encoded data removed]"
          },
          "metadata": {
            "needs_background": "light"
          }
        }
      ],
      "source": [
        "net.eval()\n",
        "outputs = net(images)\n",
        "imgs = torchvision.utils.make_grid(images)\n",
        "plt.figure(figsize=(10, 5))\n",
        "plt.imshow(imgs.permute(1, 2, 0).numpy())\n",
        "print('GroundTruth: ', ' '.join(classes[labels[j]] for j in range(len(labels))))"
      ]
    },
    {
      "cell_type": "code",
      "execution_count": 26,
      "metadata": {
        "id": "ioivIv3UbDhp",
        "colab": {
          "base_uri": "https://localhost:8080/"
        },
        "outputId": "8c5f886c-6734-49b9-f2da-38e03209a760"
      },
      "outputs": [
        {
          "output_type": "stream",
          "name": "stderr",
          "text": [
            "/usr/local/lib/python3.7/dist-packages/ipykernel_launcher.py:34: UserWarning: Implicit dimension choice for softmax has been deprecated. Change the call to include dim=X as an argument.\n"
          ]
        },
        {
          "output_type": "execute_result",
          "data": {
            "text/plain": [
              "tensor([[8.5661e-07, 5.5193e-07, 9.6106e-04, 6.3537e-04, 1.4632e-03, 2.1118e-02,\n",
              "         2.3764e-05, 2.9272e-05, 3.9008e-02, 4.8664e-03, 1.7024e-04, 4.2031e-05,\n",
              "         1.6984e-01, 4.4861e-04, 3.4656e-08, 1.3099e-03, 1.8155e-02, 4.4114e-02,\n",
              "         1.9932e-03, 1.3782e-03, 4.7998e-05, 2.0389e-05, 1.0096e-04, 6.7671e-02,\n",
              "         1.8183e-04, 1.4366e-02, 3.0761e-05, 2.2247e-03, 1.2416e-04, 1.7018e-03,\n",
              "         3.4554e-03, 2.4357e-03, 1.6437e-03, 1.0143e-03, 2.8150e-05, 7.2144e-05,\n",
              "         2.0607e-04, 2.8611e-02, 1.9546e-04, 4.3954e-02, 1.5587e-03, 1.1848e-04,\n",
              "         1.0701e-05, 7.1492e-08, 3.0150e-03, 1.2647e-03, 1.3198e-03, 4.6985e-06,\n",
              "         2.3569e-03, 6.0174e-02, 1.5360e-03, 5.9652e-07, 2.2693e-06, 3.7804e-09,\n",
              "         4.0075e-04, 5.4141e-03, 1.3344e-04, 7.8571e-06, 7.5849e-05, 4.5500e-03,\n",
              "         2.5336e-02, 1.1202e-04, 2.8085e-04, 2.6245e-04, 2.4033e-04, 1.4469e-03,\n",
              "         3.7340e-04, 4.0917e-03, 8.4315e-03, 6.7689e-02, 1.5593e-03, 1.5487e-01,\n",
              "         2.8622e-02, 4.7624e-03, 3.3513e-04, 5.4308e-05, 8.9625e-02, 1.4255e-04,\n",
              "         1.3777e-04, 3.6647e-03, 3.3970e-04, 8.3808e-03, 1.6524e-03, 4.0014e-08,\n",
              "         1.8261e-03, 1.8116e-03, 5.1262e-06, 1.6787e-03, 3.9611e-05, 9.8655e-05,\n",
              "         7.6810e-03, 1.4773e-03, 8.2628e-07, 4.0764e-04, 1.9229e-05, 2.2663e-02,\n",
              "         9.3852e-04, 7.0729e-04, 1.4483e-04, 2.4943e-03],\n",
              "        [1.3493e-06, 2.3341e-05, 5.3121e-04, 1.3358e-03, 2.1418e-03, 2.9316e-03,\n",
              "         4.8542e-04, 9.6486e-03, 8.1700e-02, 5.7522e-03, 1.8012e-03, 2.6577e-03,\n",
              "         4.5936e-03, 1.5359e-03, 9.9294e-04, 2.7825e-03, 2.1614e-03, 1.0005e-05,\n",
              "         2.3902e-02, 2.3656e-03, 3.8734e-05, 6.8513e-04, 1.9760e-03, 1.5192e-03,\n",
              "         5.5211e-04, 6.1523e-05, 1.9174e-05, 4.5880e-02, 9.6197e-03, 3.5133e-03,\n",
              "         2.5466e-03, 2.3960e-02, 1.6145e-03, 2.1119e-03, 6.0529e-04, 9.2692e-04,\n",
              "         3.9047e-05, 4.8732e-03, 2.2440e-01, 1.5115e-03, 1.0513e-03, 9.3338e-03,\n",
              "         1.4337e-02, 8.3018e-05, 9.3378e-03, 1.7505e-03, 6.9851e-04, 5.5650e-05,\n",
              "         1.7560e-02, 1.8585e-08, 1.2587e-02, 5.1726e-05, 2.1953e-06, 8.6670e-12,\n",
              "         3.9188e-05, 1.8276e-02, 2.9544e-03, 1.1475e-04, 2.7284e-05, 5.9738e-04,\n",
              "         6.2470e-06, 1.0597e-04, 2.8553e-07, 3.0840e-03, 1.3833e-02, 4.4277e-03,\n",
              "         8.4882e-02, 5.6066e-03, 2.1873e-03, 1.1378e-03, 1.9564e-05, 3.9686e-05,\n",
              "         1.3481e-03, 7.8913e-04, 3.8776e-02, 2.2294e-02, 9.9849e-05, 1.4674e-03,\n",
              "         2.3754e-02, 3.9927e-02, 1.0872e-01, 2.3469e-03, 2.3982e-05, 2.8868e-07,\n",
              "         1.6941e-05, 2.1932e-03, 5.4906e-04, 4.4957e-03, 3.0035e-03, 9.2311e-04,\n",
              "         4.1522e-04, 8.3174e-03, 8.7619e-05, 2.3394e-03, 2.8727e-04, 2.0354e-03,\n",
              "         1.0964e-04, 4.1723e-02, 1.2605e-04, 1.5842e-02],\n",
              "        [9.2378e-06, 4.2461e-04, 7.4035e-05, 6.6675e-02, 2.2315e-04, 5.2346e-08,\n",
              "         6.6766e-03, 1.8520e-04, 4.9458e-06, 5.7308e-06, 4.3256e-05, 1.1058e-05,\n",
              "         1.2239e-06, 3.5312e-03, 1.9317e-04, 6.0302e-02, 3.5879e-05, 1.2776e-01,\n",
              "         1.3355e-03, 1.7205e-02, 4.8304e-06, 1.2147e-08, 9.5947e-05, 1.8008e-06,\n",
              "         1.3597e-03, 3.6766e-06, 2.4592e-03, 5.7564e-04, 2.1937e-06, 1.8463e-01,\n",
              "         3.0691e-05, 8.3041e-04, 2.7025e-04, 8.4434e-07, 5.4158e-03, 4.2085e-04,\n",
              "         1.4805e-05, 1.4511e-04, 3.5013e-02, 4.2054e-06, 6.5481e-05, 1.0611e-05,\n",
              "         6.2922e-04, 1.3928e-03, 1.8721e-01, 4.5320e-03, 1.5045e-03, 1.8773e-03,\n",
              "         3.0084e-05, 1.9939e-04, 1.8674e-03, 2.1527e-05, 9.1215e-05, 4.0786e-07,\n",
              "         9.0611e-06, 1.3549e-02, 1.0263e-05, 3.2345e-03, 3.6644e-07, 3.3065e-04,\n",
              "         1.9898e-06, 2.5006e-07, 3.3357e-03, 5.9530e-04, 3.4529e-05, 1.0277e-06,\n",
              "         2.3997e-06, 1.9969e-03, 2.0930e-05, 7.9554e-03, 9.9160e-03, 1.1462e-08,\n",
              "         2.5329e-02, 2.3949e-04, 2.6589e-09, 2.2618e-07, 7.2282e-03, 3.8610e-03,\n",
              "         5.9827e-07, 1.5064e-04, 1.0914e-04, 9.7045e-04, 2.6396e-03, 1.4504e-06,\n",
              "         6.0273e-08, 6.4025e-05, 1.0043e-05, 4.9725e-06, 7.3930e-05, 4.1845e-03,\n",
              "         2.4135e-04, 1.6289e-01, 3.3424e-05, 3.1440e-02, 7.4138e-07, 6.3034e-07,\n",
              "         1.6004e-03, 1.6963e-03, 8.2589e-04, 1.3073e-08],\n",
              "        [4.2788e-05, 3.0398e-04, 4.6573e-02, 2.9004e-04, 5.4979e-06, 1.0941e-02,\n",
              "         2.3186e-06, 1.5459e-05, 1.0157e-04, 2.2320e-03, 7.5863e-02, 4.2812e-02,\n",
              "         1.3504e-05, 4.4606e-05, 2.3095e-05, 1.7244e-03, 9.7892e-02, 2.9469e-09,\n",
              "         6.6856e-03, 2.7849e-04, 3.0224e-05, 3.9660e-05, 6.7020e-02, 3.6009e-04,\n",
              "         7.1913e-04, 1.5072e-03, 8.4287e-04, 1.4114e-04, 3.1906e-02, 1.3802e-05,\n",
              "         1.8368e-03, 1.4560e-04, 9.0228e-03, 2.4157e-04, 8.6550e-04, 2.9515e-03,\n",
              "         2.9409e-03, 7.3421e-04, 8.6082e-05, 1.2908e-03, 1.6592e-01, 5.8580e-05,\n",
              "         1.8560e-06, 2.5171e-05, 2.8791e-03, 1.5925e-03, 1.0662e-01, 2.0708e-07,\n",
              "         1.2505e-05, 7.9915e-07, 1.6630e-03, 6.3642e-04, 8.4953e-12, 1.3173e-07,\n",
              "         2.1539e-02, 4.9388e-03, 2.7510e-05, 8.1840e-05, 1.2444e-03, 3.6888e-05,\n",
              "         1.4260e-07, 1.1798e-02, 9.6587e-05, 1.3904e-04, 2.2973e-02, 1.4798e-02,\n",
              "         1.6635e-02, 1.6132e-04, 8.5315e-06, 8.2840e-04, 3.3471e-05, 4.5503e-05,\n",
              "         1.5619e-02, 2.1810e-04, 4.0707e-06, 2.2274e-02, 3.5868e-05, 4.0073e-03,\n",
              "         5.3689e-04, 2.4820e-04, 2.3389e-03, 9.4978e-04, 2.2577e-05, 5.7191e-06,\n",
              "         6.6040e-03, 1.4656e-05, 1.4780e-02, 4.8621e-02, 5.0558e-05, 2.9087e-06,\n",
              "         3.0361e-04, 1.5565e-03, 4.2543e-03, 8.0958e-04, 4.2529e-03, 1.5769e-04,\n",
              "         1.6019e-07, 3.6537e-02, 2.9594e-02, 2.2861e-02],\n",
              "        [6.2053e-03, 3.5763e-03, 5.3212e-05, 3.9355e-08, 3.0072e-08, 8.9200e-03,\n",
              "         1.8119e-07, 2.0138e-03, 1.1254e-04, 2.3976e-04, 2.4210e-04, 9.7314e-03,\n",
              "         7.9945e-07, 1.9564e-05, 1.0116e-07, 1.1118e-05, 2.8338e-03, 8.3185e-07,\n",
              "         3.2129e-05, 8.7540e-07, 8.9036e-07, 2.3411e-07, 6.5300e-03, 3.6149e-03,\n",
              "         5.6792e-11, 8.2776e-04, 9.6150e-04, 1.3086e-12, 2.4268e-05, 2.0244e-05,\n",
              "         3.9400e-05, 3.2618e-09, 2.4592e-03, 2.4653e-03, 4.6243e-09, 3.6434e-05,\n",
              "         5.4893e-06, 2.1205e-05, 4.1329e-08, 4.4969e-02, 3.3899e-05, 2.3946e-04,\n",
              "         1.0642e-12, 1.0382e-11, 1.8296e-04, 6.5956e-04, 1.2545e-04, 4.4064e-03,\n",
              "         2.5265e-04, 3.6404e-03, 6.3568e-07, 9.2836e-07, 1.4906e-10, 6.5839e-07,\n",
              "         1.5870e-01, 1.4260e-07, 6.5124e-11, 7.7996e-05, 1.7780e-05, 1.7857e-05,\n",
              "         1.2053e-05, 1.7929e-06, 1.7216e-01, 6.7865e-09, 7.5936e-09, 3.0127e-05,\n",
              "         2.8983e-10, 2.6280e-06, 1.4352e-09, 2.7572e-04, 4.7447e-01, 6.1516e-03,\n",
              "         4.9812e-05, 6.4131e-04, 7.2550e-08, 2.8442e-13, 3.4468e-06, 2.7611e-09,\n",
              "         3.2507e-06, 1.6502e-05, 2.3988e-08, 2.2552e-07, 2.1938e-04, 4.1746e-06,\n",
              "         2.4130e-04, 6.0150e-10, 4.3182e-06, 4.3161e-05, 2.0367e-07, 1.9699e-07,\n",
              "         1.9433e-04, 1.4242e-06, 8.0700e-02, 2.1559e-07, 3.8805e-07, 2.0923e-08,\n",
              "         1.3193e-04, 1.2245e-13, 1.6724e-04, 1.3879e-04],\n",
              "        [2.9369e-09, 9.6414e-05, 2.2154e-07, 1.8588e-04, 1.3284e-03, 2.7001e-06,\n",
              "         3.9482e-01, 1.3156e-03, 4.0775e-05, 1.4273e-04, 4.2545e-06, 5.0386e-06,\n",
              "         1.9756e-06, 7.7050e-05, 2.9684e-02, 3.6193e-05, 5.0226e-05, 2.1603e-09,\n",
              "         2.6136e-04, 6.6044e-04, 7.2251e-08, 9.3759e-08, 1.3812e-05, 4.5125e-06,\n",
              "         2.5507e-03, 2.0669e-05, 1.4206e-03, 1.6736e-02, 7.6891e-06, 1.2046e-03,\n",
              "         7.5549e-08, 5.9395e-02, 1.9527e-03, 1.6920e-02, 3.4333e-04, 5.2757e-05,\n",
              "         1.1956e-04, 2.2987e-04, 1.3511e-02, 2.1074e-05, 5.7064e-06, 6.8748e-07,\n",
              "         1.5056e-04, 3.2388e-01, 1.7083e-03, 4.2093e-05, 2.2745e-06, 6.7627e-06,\n",
              "         1.5252e-08, 3.4425e-11, 1.4141e-03, 4.3963e-06, 1.3294e-06, 3.9871e-07,\n",
              "         4.4203e-09, 1.7846e-02, 1.6329e-04, 4.3417e-05, 1.5347e-09, 2.0687e-04,\n",
              "         9.2406e-08, 4.7067e-06, 4.3168e-05, 7.7822e-04, 1.2311e-04, 6.2908e-03,\n",
              "         2.5274e-03, 1.1973e-02, 1.9630e-09, 2.0405e-09, 5.6117e-05, 6.3180e-09,\n",
              "         2.0676e-03, 2.9577e-06, 2.5157e-02, 5.6837e-04, 3.1168e-09, 4.2973e-03,\n",
              "         1.3434e-02, 1.3996e-02, 1.1669e-02, 7.8784e-07, 2.0189e-05, 1.4259e-06,\n",
              "         1.6293e-07, 1.6020e-08, 6.1804e-04, 4.5443e-08, 1.5974e-02, 7.4357e-04,\n",
              "         1.3729e-07, 5.2896e-05, 1.2633e-06, 2.9724e-04, 8.9634e-08, 4.0285e-10,\n",
              "         4.6677e-04, 2.2999e-06, 1.5441e-05, 1.1724e-04],\n",
              "        [8.5800e-04, 1.0328e-03, 1.1442e-02, 6.1583e-03, 7.8484e-03, 2.1408e-03,\n",
              "         4.1997e-04, 4.1505e-04, 5.4118e-03, 9.7825e-03, 1.0022e-02, 4.9301e-03,\n",
              "         4.7657e-04, 6.7456e-04, 9.5142e-04, 1.3521e-02, 1.2484e-02, 2.7509e-03,\n",
              "         1.4635e-03, 1.7155e-02, 1.8983e-03, 2.6252e-04, 7.7410e-03, 2.5382e-03,\n",
              "         1.2224e-03, 1.6628e-02, 1.3339e-03, 9.7930e-03, 7.0758e-03, 2.1742e-03,\n",
              "         4.3409e-03, 7.4569e-03, 1.0276e-02, 1.1074e-03, 9.0644e-03, 5.4323e-03,\n",
              "         5.6576e-02, 1.9993e-03, 3.1830e-02, 2.4604e-02, 6.9540e-03, 1.8731e-03,\n",
              "         1.6205e-02, 2.1930e-03, 1.0333e-02, 2.7073e-03, 4.0524e-03, 1.7572e-04,\n",
              "         3.9527e-03, 1.4319e-04, 3.1989e-02, 1.3411e-02, 3.9101e-08, 1.9971e-06,\n",
              "         1.2215e-02, 2.3095e-03, 3.9353e-04, 1.1506e-03, 3.0760e-04, 2.1676e-03,\n",
              "         4.0175e-04, 1.8048e-02, 1.5452e-03, 6.2617e-02, 3.3697e-02, 8.0493e-02,\n",
              "         2.4744e-02, 1.9590e-02, 5.3008e-04, 2.6472e-03, 9.1689e-03, 2.3014e-04,\n",
              "         1.3128e-02, 3.0124e-03, 7.6473e-03, 3.6465e-03, 6.9064e-03, 2.4917e-02,\n",
              "         4.1873e-02, 3.2577e-02, 4.4353e-02, 1.4811e-04, 1.9940e-04, 5.4288e-05,\n",
              "         7.1728e-03, 3.3209e-04, 7.2610e-03, 2.0380e-03, 3.6502e-02, 3.4533e-03,\n",
              "         7.4096e-04, 2.4262e-03, 4.9512e-04, 2.1159e-03, 1.2377e-02, 9.5596e-05,\n",
              "         4.6942e-04, 5.0850e-02, 3.6315e-03, 1.2036e-02],\n",
              "        [5.4003e-06, 8.0095e-05, 1.1596e-04, 3.8001e-03, 9.6850e-03, 2.7463e-04,\n",
              "         5.3828e-03, 5.7600e-01, 1.2523e-04, 5.3177e-04, 3.2391e-03, 2.9660e-04,\n",
              "         1.5739e-05, 6.3954e-05, 6.0401e-03, 5.0464e-04, 4.0193e-03, 5.2483e-06,\n",
              "         4.8698e-02, 4.7603e-05, 1.4943e-02, 2.2739e-03, 4.4097e-04, 7.5072e-10,\n",
              "         1.6165e-02, 5.7163e-04, 8.6428e-03, 4.7799e-03, 1.3290e-03, 1.1433e-02,\n",
              "         6.2743e-06, 1.7802e-04, 3.8057e-03, 3.2102e-05, 3.7854e-04, 2.1218e-04,\n",
              "         1.5568e-05, 1.2728e-04, 1.6505e-03, 1.6918e-05, 9.5866e-05, 1.4913e-03,\n",
              "         2.1921e-04, 9.6640e-04, 3.5162e-02, 8.1122e-03, 7.0092e-05, 8.2242e-06,\n",
              "         4.5098e-04, 7.3870e-12, 1.5183e-02, 1.4536e-04, 1.1368e-06, 3.4985e-08,\n",
              "         9.3867e-07, 9.6071e-03, 3.9153e-03, 1.7545e-03, 5.4486e-05, 1.6554e-04,\n",
              "         5.1502e-07, 8.8659e-05, 2.6647e-09, 1.8527e-03, 4.3824e-03, 5.5616e-03,\n",
              "         7.5539e-03, 9.3614e-04, 3.1105e-08, 6.3526e-06, 4.3593e-04, 2.8304e-08,\n",
              "         1.4254e-02, 7.5895e-06, 1.8581e-03, 4.9028e-03, 1.1971e-05, 4.4844e-03,\n",
              "         5.9087e-03, 8.6265e-02, 1.1513e-02, 7.1760e-05, 1.7430e-04, 1.6603e-05,\n",
              "         1.7097e-03, 3.1800e-03, 7.5435e-04, 3.4759e-03, 2.2325e-04, 3.4217e-03,\n",
              "         3.7151e-04, 1.2687e-04, 2.5011e-04, 2.5576e-02, 1.1015e-04, 4.0431e-05,\n",
              "         5.8002e-03, 6.8745e-04, 1.2394e-05, 6.3617e-04]],\n",
              "       grad_fn=<SoftmaxBackward0>)"
            ]
          },
          "metadata": {},
          "execution_count": 26
        }
      ],
      "source": [
        "net.predict(images)"
      ]
    },
    {
      "cell_type": "code",
      "execution_count": 27,
      "metadata": {
        "id": "brr5AtDdbDmx"
      },
      "outputs": [],
      "source": [
        "_, predicted = torch.max(outputs, 1)"
      ]
    },
    {
      "cell_type": "code",
      "source": [
        "predicted"
      ],
      "metadata": {
        "colab": {
          "base_uri": "https://localhost:8080/"
        },
        "id": "Vqe_P5IprGNd",
        "outputId": "b837fb15-f303-4878-e33e-e649cc8e66d6"
      },
      "execution_count": 28,
      "outputs": [
        {
          "output_type": "execute_result",
          "data": {
            "text/plain": [
              "tensor([12, 38, 44, 40, 70,  6, 65,  7])"
            ]
          },
          "metadata": {},
          "execution_count": 28
        }
      ]
    },
    {
      "cell_type": "code",
      "execution_count": 29,
      "metadata": {
        "id": "oD3ZqsecbDrQ",
        "colab": {
          "base_uri": "https://localhost:8080/"
        },
        "outputId": "5984a8de-bb7f-4ce4-c9b9-b9f3a14ea59e"
      },
      "outputs": [
        {
          "output_type": "stream",
          "name": "stdout",
          "text": [
            "Predicted:  roses caterpillar wolf bear baby flatfish crab ray\n"
          ]
        }
      ],
      "source": [
        "print('Predicted: ', ' '.join(classes[predicted[j]] for j in range(len(labels))))"
      ]
    },
    {
      "cell_type": "code",
      "source": [
        "gt = np.array([classes[labels[j]] for j in range(len(labels))])\n",
        "pred = np.array([classes[predicted[j]] for j in range(len(labels))])\n",
        "\n",
        "print(gt)\n",
        "print(pred)\n",
        "print(f'Accuracy is {(gt == pred).sum() / len(gt)}')"
      ],
      "metadata": {
        "colab": {
          "base_uri": "https://localhost:8080/"
        },
        "id": "aI1BsDskrHUN",
        "outputId": "9399e541-3938-44e3-93cb-f4886d20e64a"
      },
      "execution_count": 30,
      "outputs": [
        {
          "output_type": "stream",
          "name": "stdout",
          "text": [
            "['skyscraper' 'table' 'girl' 'forest' 'boy' 'motorcycle' 'bottles'\n",
            " 'tulips']\n",
            "['roses' 'caterpillar' 'wolf' 'bear' 'baby' 'flatfish' 'crab' 'ray']\n",
            "Accuracy is 0.0\n"
          ]
        }
      ]
    },
    {
      "cell_type": "code",
      "source": [
        ""
      ],
      "metadata": {
        "id": "nHOai5nprHXQ"
      },
      "execution_count": 30,
      "outputs": []
    },
    {
      "cell_type": "code",
      "source": [
        ""
      ],
      "metadata": {
        "id": "RnYhBPgErHc0"
      },
      "execution_count": 30,
      "outputs": []
    }
  ],
  "metadata": {
    "accelerator": "GPU",
    "colab": {
      "name": "HW_02.ipynb",
      "provenance": []
    },
    "gpuClass": "standard",
    "kernelspec": {
      "display_name": "Python 3",
      "language": "python",
      "name": "python3"
    },
    "language_info": {
      "codemirror_mode": {
        "name": "ipython",
        "version": 3
      },
      "file_extension": ".py",
      "mimetype": "text/x-python",
      "name": "python",
      "nbconvert_exporter": "python",
      "pygments_lexer": "ipython3",
      "version": "3.7.4"
    },
    "widgets": {
      "application/vnd.jupyter.widget-state+json": {
        "2b6a99fb988e441ab7658c5db9d481f4": {
          "model_module": "@jupyter-widgets/controls",
          "model_name": "HBoxModel",
          "model_module_version": "1.5.0",
          "state": {
            "_dom_classes": [],
            "_model_module": "@jupyter-widgets/controls",
            "_model_module_version": "1.5.0",
            "_model_name": "HBoxModel",
            "_view_count": null,
            "_view_module": "@jupyter-widgets/controls",
            "_view_module_version": "1.5.0",
            "_view_name": "HBoxView",
            "box_style": "",
            "children": [
              "IPY_MODEL_109b2be36a604785b96510f2d208ea90",
              "IPY_MODEL_82c41adc518e4bc293d7bca7d8b27188",
              "IPY_MODEL_441cd1ec8c724b54950fcbe896df3df1"
            ],
            "layout": "IPY_MODEL_e12a1e0badc24e84a27aed289c471d7d"
          }
        },
        "109b2be36a604785b96510f2d208ea90": {
          "model_module": "@jupyter-widgets/controls",
          "model_name": "HTMLModel",
          "model_module_version": "1.5.0",
          "state": {
            "_dom_classes": [],
            "_model_module": "@jupyter-widgets/controls",
            "_model_module_version": "1.5.0",
            "_model_name": "HTMLModel",
            "_view_count": null,
            "_view_module": "@jupyter-widgets/controls",
            "_view_module_version": "1.5.0",
            "_view_name": "HTMLView",
            "description": "",
            "description_tooltip": null,
            "layout": "IPY_MODEL_97294d26d44f4761a843997aba104c42",
            "placeholder": "​",
            "style": "IPY_MODEL_69e500cfdc064575862754cc8e3e0b24",
            "value": ""
          }
        },
        "82c41adc518e4bc293d7bca7d8b27188": {
          "model_module": "@jupyter-widgets/controls",
          "model_name": "FloatProgressModel",
          "model_module_version": "1.5.0",
          "state": {
            "_dom_classes": [],
            "_model_module": "@jupyter-widgets/controls",
            "_model_module_version": "1.5.0",
            "_model_name": "FloatProgressModel",
            "_view_count": null,
            "_view_module": "@jupyter-widgets/controls",
            "_view_module_version": "1.5.0",
            "_view_name": "ProgressView",
            "bar_style": "success",
            "description": "",
            "description_tooltip": null,
            "layout": "IPY_MODEL_c4141d1e2667479e84a16854c5bd67b2",
            "max": 169001437,
            "min": 0,
            "orientation": "horizontal",
            "style": "IPY_MODEL_9700e8aded6c41d7a891ca1635e86fed",
            "value": 169001437
          }
        },
        "441cd1ec8c724b54950fcbe896df3df1": {
          "model_module": "@jupyter-widgets/controls",
          "model_name": "HTMLModel",
          "model_module_version": "1.5.0",
          "state": {
            "_dom_classes": [],
            "_model_module": "@jupyter-widgets/controls",
            "_model_module_version": "1.5.0",
            "_model_name": "HTMLModel",
            "_view_count": null,
            "_view_module": "@jupyter-widgets/controls",
            "_view_module_version": "1.5.0",
            "_view_name": "HTMLView",
            "description": "",
            "description_tooltip": null,
            "layout": "IPY_MODEL_1a9f25c1739f4b7c83cf00746da970ad",
            "placeholder": "​",
            "style": "IPY_MODEL_a8f91dc769d346c89e826db0184ec788",
            "value": " 169001984/? [00:02&lt;00:00, 86022587.18it/s]"
          }
        },
        "e12a1e0badc24e84a27aed289c471d7d": {
          "model_module": "@jupyter-widgets/base",
          "model_name": "LayoutModel",
          "model_module_version": "1.2.0",
          "state": {
            "_model_module": "@jupyter-widgets/base",
            "_model_module_version": "1.2.0",
            "_model_name": "LayoutModel",
            "_view_count": null,
            "_view_module": "@jupyter-widgets/base",
            "_view_module_version": "1.2.0",
            "_view_name": "LayoutView",
            "align_content": null,
            "align_items": null,
            "align_self": null,
            "border": null,
            "bottom": null,
            "display": null,
            "flex": null,
            "flex_flow": null,
            "grid_area": null,
            "grid_auto_columns": null,
            "grid_auto_flow": null,
            "grid_auto_rows": null,
            "grid_column": null,
            "grid_gap": null,
            "grid_row": null,
            "grid_template_areas": null,
            "grid_template_columns": null,
            "grid_template_rows": null,
            "height": null,
            "justify_content": null,
            "justify_items": null,
            "left": null,
            "margin": null,
            "max_height": null,
            "max_width": null,
            "min_height": null,
            "min_width": null,
            "object_fit": null,
            "object_position": null,
            "order": null,
            "overflow": null,
            "overflow_x": null,
            "overflow_y": null,
            "padding": null,
            "right": null,
            "top": null,
            "visibility": null,
            "width": null
          }
        },
        "97294d26d44f4761a843997aba104c42": {
          "model_module": "@jupyter-widgets/base",
          "model_name": "LayoutModel",
          "model_module_version": "1.2.0",
          "state": {
            "_model_module": "@jupyter-widgets/base",
            "_model_module_version": "1.2.0",
            "_model_name": "LayoutModel",
            "_view_count": null,
            "_view_module": "@jupyter-widgets/base",
            "_view_module_version": "1.2.0",
            "_view_name": "LayoutView",
            "align_content": null,
            "align_items": null,
            "align_self": null,
            "border": null,
            "bottom": null,
            "display": null,
            "flex": null,
            "flex_flow": null,
            "grid_area": null,
            "grid_auto_columns": null,
            "grid_auto_flow": null,
            "grid_auto_rows": null,
            "grid_column": null,
            "grid_gap": null,
            "grid_row": null,
            "grid_template_areas": null,
            "grid_template_columns": null,
            "grid_template_rows": null,
            "height": null,
            "justify_content": null,
            "justify_items": null,
            "left": null,
            "margin": null,
            "max_height": null,
            "max_width": null,
            "min_height": null,
            "min_width": null,
            "object_fit": null,
            "object_position": null,
            "order": null,
            "overflow": null,
            "overflow_x": null,
            "overflow_y": null,
            "padding": null,
            "right": null,
            "top": null,
            "visibility": null,
            "width": null
          }
        },
        "69e500cfdc064575862754cc8e3e0b24": {
          "model_module": "@jupyter-widgets/controls",
          "model_name": "DescriptionStyleModel",
          "model_module_version": "1.5.0",
          "state": {
            "_model_module": "@jupyter-widgets/controls",
            "_model_module_version": "1.5.0",
            "_model_name": "DescriptionStyleModel",
            "_view_count": null,
            "_view_module": "@jupyter-widgets/base",
            "_view_module_version": "1.2.0",
            "_view_name": "StyleView",
            "description_width": ""
          }
        },
        "c4141d1e2667479e84a16854c5bd67b2": {
          "model_module": "@jupyter-widgets/base",
          "model_name": "LayoutModel",
          "model_module_version": "1.2.0",
          "state": {
            "_model_module": "@jupyter-widgets/base",
            "_model_module_version": "1.2.0",
            "_model_name": "LayoutModel",
            "_view_count": null,
            "_view_module": "@jupyter-widgets/base",
            "_view_module_version": "1.2.0",
            "_view_name": "LayoutView",
            "align_content": null,
            "align_items": null,
            "align_self": null,
            "border": null,
            "bottom": null,
            "display": null,
            "flex": null,
            "flex_flow": null,
            "grid_area": null,
            "grid_auto_columns": null,
            "grid_auto_flow": null,
            "grid_auto_rows": null,
            "grid_column": null,
            "grid_gap": null,
            "grid_row": null,
            "grid_template_areas": null,
            "grid_template_columns": null,
            "grid_template_rows": null,
            "height": null,
            "justify_content": null,
            "justify_items": null,
            "left": null,
            "margin": null,
            "max_height": null,
            "max_width": null,
            "min_height": null,
            "min_width": null,
            "object_fit": null,
            "object_position": null,
            "order": null,
            "overflow": null,
            "overflow_x": null,
            "overflow_y": null,
            "padding": null,
            "right": null,
            "top": null,
            "visibility": null,
            "width": null
          }
        },
        "9700e8aded6c41d7a891ca1635e86fed": {
          "model_module": "@jupyter-widgets/controls",
          "model_name": "ProgressStyleModel",
          "model_module_version": "1.5.0",
          "state": {
            "_model_module": "@jupyter-widgets/controls",
            "_model_module_version": "1.5.0",
            "_model_name": "ProgressStyleModel",
            "_view_count": null,
            "_view_module": "@jupyter-widgets/base",
            "_view_module_version": "1.2.0",
            "_view_name": "StyleView",
            "bar_color": null,
            "description_width": ""
          }
        },
        "1a9f25c1739f4b7c83cf00746da970ad": {
          "model_module": "@jupyter-widgets/base",
          "model_name": "LayoutModel",
          "model_module_version": "1.2.0",
          "state": {
            "_model_module": "@jupyter-widgets/base",
            "_model_module_version": "1.2.0",
            "_model_name": "LayoutModel",
            "_view_count": null,
            "_view_module": "@jupyter-widgets/base",
            "_view_module_version": "1.2.0",
            "_view_name": "LayoutView",
            "align_content": null,
            "align_items": null,
            "align_self": null,
            "border": null,
            "bottom": null,
            "display": null,
            "flex": null,
            "flex_flow": null,
            "grid_area": null,
            "grid_auto_columns": null,
            "grid_auto_flow": null,
            "grid_auto_rows": null,
            "grid_column": null,
            "grid_gap": null,
            "grid_row": null,
            "grid_template_areas": null,
            "grid_template_columns": null,
            "grid_template_rows": null,
            "height": null,
            "justify_content": null,
            "justify_items": null,
            "left": null,
            "margin": null,
            "max_height": null,
            "max_width": null,
            "min_height": null,
            "min_width": null,
            "object_fit": null,
            "object_position": null,
            "order": null,
            "overflow": null,
            "overflow_x": null,
            "overflow_y": null,
            "padding": null,
            "right": null,
            "top": null,
            "visibility": null,
            "width": null
          }
        },
        "a8f91dc769d346c89e826db0184ec788": {
          "model_module": "@jupyter-widgets/controls",
          "model_name": "DescriptionStyleModel",
          "model_module_version": "1.5.0",
          "state": {
            "_model_module": "@jupyter-widgets/controls",
            "_model_module_version": "1.5.0",
            "_model_name": "DescriptionStyleModel",
            "_view_count": null,
            "_view_module": "@jupyter-widgets/base",
            "_view_module_version": "1.2.0",
            "_view_name": "StyleView",
            "description_width": ""
          }
        }
      }
    }
  },
  "nbformat": 4,
  "nbformat_minor": 0
}